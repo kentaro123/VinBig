{
 "cells": [
  {
   "cell_type": "code",
   "execution_count": 1,
   "metadata": {
    "_kg_hide-input": true,
    "papermill": {
     "duration": 8.118541,
     "end_time": "2021-02-24T13:46:43.845359",
     "exception": false,
     "start_time": "2021-02-24T13:46:35.726818",
     "status": "completed"
    },
    "tags": []
   },
   "outputs": [
    {
     "name": "stderr",
     "output_type": "stream",
     "text": [
      "fail to import amp_C: apex was not installed or installed without --cpp_ext.\n"
     ]
    }
   ],
   "source": [
    "import gc\n",
    "import os\n",
    "from pathlib import Path\n",
    "import random\n",
    "import sys\n",
    "from tqdm.notebook import tqdm\n",
    "import numpy as np\n",
    "import pandas as pd\n",
    "import scipy as sp\n",
    "import matplotlib.pyplot as plt\n",
    "import seaborn as sns\n",
    "from IPython.core.display import display, HTML\n",
    "# --- models ---\n",
    "from sklearn import preprocessing\n",
    "from sklearn.model_selection import KFold\n",
    "import torch\n",
    "\n",
    "# --- setup ---\n",
    "pd.set_option('max_columns', 50)\n",
    "import dataclasses\n",
    "import os\n",
    "import sys\n",
    "from pathlib import Path\n",
    "\n",
    "import numpy as np\n",
    "import pandas as pd\n",
    "import pytorch_pfn_extras.training.extensions as E\n",
    "import torch\n",
    "from ignite.engine import Events\n",
    "from pytorch_pfn_extras.training import IgniteExtensionsManager\n",
    "from sklearn.model_selection import StratifiedKFold\n",
    "from torch import nn, optim\n",
    "from torch.utils.data.dataloader import DataLoader\n",
    "\n",
    "from dataclasses import dataclass, field\n",
    "from typing import Dict, Any, Tuple, Union, List\n",
    "import dataclasses"
   ]
  },
  {
   "cell_type": "code",
   "execution_count": 2,
   "metadata": {},
   "outputs": [],
   "source": [
    "from module import *"
   ]
  },
  {
   "cell_type": "code",
   "execution_count": 3,
   "metadata": {
    "_kg_hide-input": true,
    "papermill": {
     "duration": 0.07403,
     "end_time": "2021-02-24T13:47:19.064767",
     "exception": false,
     "start_time": "2021-02-24T13:47:18.990737",
     "status": "completed"
    },
    "tags": []
   },
   "outputs": [],
   "source": [
    "@dataclass\n",
    "class Flags:\n",
    "    # General\n",
    "    debug: bool = True\n",
    "    outdir: str = \"results/det\"\n",
    "    device: str = \"cuda:1\"\n",
    "\n",
    "    # Data config\n",
    "    imgdir_name: str = \"vinbigdata-chest-xray-resized-png-256x256\"\n",
    "    # split_mode: str = \"all_train\"  # all_train or valid20\n",
    "    seed: int = 111\n",
    "    target_fold: int = 0  # 0~4\n",
    "    label_smoothing: float = 0.0\n",
    "    # Model config\n",
    "    model_name: str = \"efficientnet_b8\"\n",
    "    model_mode: str = \"normal\"  # normal, cnn_fixed supported\n",
    "    # Training config\n",
    "    epoch: int = 20\n",
    "    batchsize: int = 8\n",
    "    valid_batchsize: int = 16\n",
    "    num_workers: int = 4\n",
    "    snapshot_freq: int = 5\n",
    "    ema_decay: float = 0.999  # negative value is to inactivate ema.\n",
    "    scheduler_type: str = \"\"\n",
    "    scheduler_kwargs: Dict[str, Any] = field(default_factory=lambda: {})\n",
    "    scheduler_trigger: List[Union[int, str]] = field(default_factory=lambda: [1, \"iteration\"])\n",
    "    aug_kwargs: Dict[str, Dict[str, Any]] = field(default_factory=lambda: {})\n",
    "    mixup_prob: float = -1.0  # Apply mixup augmentation when positive value is set.\n",
    "\n",
    "    def update(self, param_dict: Dict) -> \"Flags\":\n",
    "        # Overwrite by `param_dict`\n",
    "        for key, value in param_dict.items():\n",
    "            if not hasattr(self, key):\n",
    "                raise ValueError(f\"[ERROR] Unexpected key for flag = {key}\")\n",
    "            setattr(self, key, value)\n",
    "        return self\n",
    "    \n",
    "    def to_yaml(self, filepath: str, width: int = 120):\n",
    "        with open(filepath, 'w') as f:\n",
    "            yaml.dump(asdict(self), f, width=width)"
   ]
  },
  {
   "cell_type": "code",
   "execution_count": 4,
   "metadata": {},
   "outputs": [
    {
     "data": {
      "text/plain": [
       "PosixPath('/home/kentaro123/vinbig/waka_vin/src')"
      ]
     },
     "execution_count": 4,
     "metadata": {},
     "output_type": "execute_result"
    }
   ],
   "source": [
    "base_dir = Path().resolve()\n",
    "base_dir"
   ]
  },
  {
   "cell_type": "code",
   "execution_count": 6,
   "metadata": {},
   "outputs": [],
   "source": [
    "def my_makedirs(path):\n",
    "    if not os.path.isdir(path):\n",
    "        os.makedirs(path)"
   ]
  },
  {
   "cell_type": "code",
   "execution_count": 5,
   "metadata": {},
   "outputs": [],
   "source": [
    "model_name_memo = \"resnest50d\"\n",
    "my_makedirs(\"../../data/results_\"+model_name_memo+\"/\")"
   ]
  },
  {
   "cell_type": "code",
   "execution_count": 22,
   "metadata": {
    "_kg_hide-input": true,
    "papermill": {
     "duration": 0.067717,
     "end_time": "2021-02-24T13:47:19.188450",
     "exception": false,
     "start_time": "2021-02-24T13:47:19.120733",
     "status": "completed"
    },
    "tags": []
   },
   "outputs": [],
   "source": [
    "# パラメータ設定\n",
    "flags_dict = {\n",
    "    \"debug\": False,  # Change to True for fast debug run!\n",
    "    \"outdir\": \"../../data/results_\"+model_name_memo+\"/\",\n",
    "    # Data\n",
    "    \"imgdir_name\": \"../../data/\",\n",
    "    # Model\n",
    "    \"model_name\": model_name_memo,\n",
    "    # Training\n",
    "    \"num_workers\": 4,\n",
    "    \"epoch\": 20,\n",
    "    \"batchsize\": 8,\n",
    "    \"scheduler_type\": \"CosineAnnealingWarmRestarts\",\n",
    "    \"scheduler_kwargs\": {\"T_0\": 28125},  # 15000 * 15 epoch // (batchsize=8)\n",
    "    \"scheduler_trigger\": [1, \"iteration\"],\n",
    "    \"aug_kwargs\": {\n",
    "        \"HorizontalFlip\": {\"p\": 0.5},\n",
    "        \"ShiftScaleRotate\": {\"scale_limit\": 0.15, \"rotate_limit\": 10, \"p\": 0.5},\n",
    "        \"RandomBrightnessContrast\": {\"p\": 0.5},\n",
    "        \"CoarseDropout\": {\"max_holes\": 8, \"max_height\": 25, \"max_width\": 25, \"p\": 0.5},\n",
    "        \"Blur\": {\"blur_limit\": [3, 7], \"p\": 0.5},\n",
    "        \"Downscale\": {\"scale_min\": 0.25, \"scale_max\": 0.9, \"p\": 0.3},\n",
    "        \"RandomGamma\": {\"gamma_limit\": [80, 120], \"p\": 0.6},\n",
    "    }\n",
    "}"
   ]
  },
  {
   "cell_type": "code",
   "execution_count": 33,
   "metadata": {
    "_kg_hide-input": true,
    "papermill": {
     "duration": 0.211013,
     "end_time": "2021-02-24T13:47:19.455966",
     "exception": false,
     "start_time": "2021-02-24T13:47:19.244953",
     "status": "completed"
    },
    "tags": []
   },
   "outputs": [
    {
     "name": "stdout",
     "output_type": "stream",
     "text": [
      "torch 1.7.1\n",
      "flags Flags(debug=False, outdir='../../data/results/', device='cuda:1', imgdir_name='../../data/', seed=111, target_fold=0, label_smoothing=0.0, model_name='efficientnet_b0', model_mode='normal', epoch=15, batchsize=8, valid_batchsize=16, num_workers=4, snapshot_freq=5, ema_decay=0.999, scheduler_type='CosineAnnealingWarmRestarts', scheduler_kwargs={'T_0': 28125}, scheduler_trigger=[1, 'iteration'], aug_kwargs={'HorizontalFlip': {'p': 0.5}, 'ShiftScaleRotate': {'scale_limit': 0.15, 'rotate_limit': 10, 'p': 0.5}, 'RandomBrightnessContrast': {'p': 0.5}, 'CoarseDropout': {'max_holes': 8, 'max_height': 25, 'max_width': 25, 'p': 0.5}, 'Blur': {'blur_limit': [3, 7], 'p': 0.5}, 'Downscale': {'scale_min': 0.25, 'scale_max': 0.9, 'p': 0.3}, 'RandomGamma': {'gamma_limit': [80, 120], 'p': 0.6}}, mixup_prob=-1.0)\n",
      "Load from cache dataset_dicts_cache_original_debug0.pkl\n"
     ]
    }
   ],
   "source": [
    "print(\"torch\", torch.__version__)\n",
    "flags = Flags().update(flags_dict)\n",
    "print(\"flags\", flags)\n",
    "debug = flags.debug\n",
    "outdir = Path(flags.outdir)\n",
    "os.makedirs(str(outdir), exist_ok=True)\n",
    "flags_dict = dataclasses.asdict(flags)\n",
    "save_yaml(str(outdir / \"flags.yaml\"), flags_dict)\n",
    "\n",
    "# --- Read data ---\n",
    "inputdir = base_dir\n",
    "datadir = inputdir / flags.imgdir_name\n",
    "imgdir = inputdir / flags.imgdir_name\n",
    "\n",
    "# Read in the data CSV files\n",
    "train = pd.read_csv(datadir / \"train.csv\")\n",
    "# sample_submission = pd.read_csv(datadir / 'sample_submission.csv')\n",
    "dataset_dicts = get_vinbigdata_dicts(imgdir, train, debug=debug)\n"
   ]
  },
  {
   "cell_type": "code",
   "execution_count": 24,
   "metadata": {
    "_kg_hide-input": true,
    "papermill": {
     "duration": null,
     "end_time": null,
     "exception": null,
     "start_time": null,
     "status": "pending"
    },
    "tags": []
   },
   "outputs": [
    {
     "data": {
      "image/png": "[encoded data removed]",
      "text/plain": [
       "<Figure size 1152x360 with 4 Axes>"
      ]
     },
     "metadata": {
      "needs_background": "light"
     },
     "output_type": "display_data"
    }
   ],
   "source": [
    "# ランダムにもとのデータを拡張したものが選ばれる\n",
    "# data_autの確認\n",
    "aug_dataset = VinbigdataTwoClassDataset(dataset_dicts, image_transform=Transform(flags.aug_kwargs))\n",
    "index = 0\n",
    "\n",
    "n_images = 4\n",
    "\n",
    "fig, axes = plt.subplots(1, n_images, figsize=(16, 5))\n",
    "for i in range(n_images):\n",
    "    # Each time the data is accessed, the result is different due to random augmentation!\n",
    "    img, label = aug_dataset[index]\n",
    "    ax = axes[i]\n",
    "    ax.imshow(img.cpu().numpy().transpose((1, 2, 0)) / 255.)\n",
    "    ax.set_title(f\"{index}-th image: label {label}\")\n",
    "plt.show()"
   ]
  },
  {
   "cell_type": "markdown",
   "metadata": {
    "papermill": {
     "duration": 0.064736,
     "end_time": "2021-02-24T13:47:25.348037",
     "exception": false,
     "start_time": "2021-02-24T13:47:25.283301",
     "status": "completed"
    },
    "tags": []
   },
   "source": [
    "Now creating the dataset is just easy as following:"
   ]
  },
  {
   "cell_type": "markdown",
   "metadata": {
    "papermill": {
     "duration": null,
     "end_time": null,
     "exception": null,
     "start_time": null,
     "status": "pending"
    },
    "tags": []
   },
   "source": [
    "<a id=\"model\"></a>\n",
    "# Defining CNN models\n",
    "\n",
    "Recently, several libraries of CNN-collection are available on public.\n",
    "\n",
    "I will use `timm` this time. You don't need to impelment deep CNN models by yourself, you can just re-use latest research results without hustle.<br/>\n",
    "You can focus on more about looking data and try experiment now."
   ]
  },
  {
   "cell_type": "code",
   "execution_count": 25,
   "metadata": {
    "papermill": {
     "duration": null,
     "end_time": null,
     "exception": null,
     "start_time": null,
     "status": "pending"
    },
    "tags": []
   },
   "outputs": [
    {
     "name": "stdout",
     "output_type": "stream",
     "text": [
      "347 models are supported in timm.\n",
      "['adv_inception_v3', 'cspdarknet53', 'cspdarknet53_iabn', 'cspresnet50', 'cspresnet50d', 'cspresnet50w', 'cspresnext50', 'cspresnext50_iabn', 'darknet53', 'densenet121', 'densenet121d', 'densenet161', 'densenet169', 'densenet201', 'densenet264', 'densenet264d_iabn', 'densenetblur121d', 'dla34', 'dla46_c', 'dla46x_c', 'dla60', 'dla60_res2net', 'dla60_res2next', 'dla60x', 'dla60x_c', 'dla102', 'dla102x', 'dla102x2', 'dla169', 'dpn68', 'dpn68b', 'dpn92', 'dpn98', 'dpn107', 'dpn131', 'eca_vovnet39b', 'ecaresnet18', 'ecaresnet50', 'ecaresnet50d', 'ecaresnet50d_pruned', 'ecaresnet101d', 'ecaresnet101d_pruned', 'ecaresnetlight', 'ecaresnext26tn_32x4d', 'efficientnet_b0', 'efficientnet_b1', 'efficientnet_b1_pruned', 'efficientnet_b2', 'efficientnet_b2_pruned', 'efficientnet_b2a', 'efficientnet_b3', 'efficientnet_b3_pruned', 'efficientnet_b3a', 'efficientnet_b4', 'efficientnet_b5', 'efficientnet_b6', 'efficientnet_b7', 'efficientnet_b8', 'efficientnet_cc_b0_4e', 'efficientnet_cc_b0_8e', 'efficientnet_cc_b1_8e', 'efficientnet_el', 'efficientnet_em', 'efficientnet_es', 'efficientnet_l2', 'efficientnet_lite0', 'efficientnet_lite1', 'efficientnet_lite2', 'efficientnet_lite3', 'efficientnet_lite4', 'ens_adv_inception_resnet_v2', 'ese_vovnet19b_dw', 'ese_vovnet19b_slim', 'ese_vovnet19b_slim_dw', 'ese_vovnet39b', 'ese_vovnet39b_evos', 'ese_vovnet57b', 'ese_vovnet99b', 'ese_vovnet99b_iabn', 'fbnetc_100', 'gluon_inception_v3', 'gluon_resnet18_v1b', 'gluon_resnet34_v1b', 'gluon_resnet50_v1b', 'gluon_resnet50_v1c', 'gluon_resnet50_v1d', 'gluon_resnet50_v1s', 'gluon_resnet101_v1b', 'gluon_resnet101_v1c', 'gluon_resnet101_v1d', 'gluon_resnet101_v1s', 'gluon_resnet152_v1b', 'gluon_resnet152_v1c', 'gluon_resnet152_v1d', 'gluon_resnet152_v1s', 'gluon_resnext50_32x4d', 'gluon_resnext101_32x4d', 'gluon_resnext101_64x4d', 'gluon_senet154', 'gluon_seresnext50_32x4d', 'gluon_seresnext101_32x4d', 'gluon_seresnext101_64x4d', 'gluon_xception65', 'hrnet_w18', 'hrnet_w18_small', 'hrnet_w18_small_v2', 'hrnet_w30', 'hrnet_w32', 'hrnet_w40', 'hrnet_w44', 'hrnet_w48', 'hrnet_w64', 'ig_resnext101_32x8d', 'ig_resnext101_32x16d', 'ig_resnext101_32x32d', 'ig_resnext101_32x48d', 'inception_resnet_v2', 'inception_v3', 'inception_v4', 'legacy_senet154', 'legacy_seresnet18', 'legacy_seresnet34', 'legacy_seresnet50', 'legacy_seresnet101', 'legacy_seresnet152', 'legacy_seresnext26_32x4d', 'legacy_seresnext50_32x4d', 'legacy_seresnext101_32x4d', 'mixnet_l', 'mixnet_m', 'mixnet_s', 'mixnet_xl', 'mixnet_xxl', 'mnasnet_050', 'mnasnet_075', 'mnasnet_100', 'mnasnet_140', 'mnasnet_a1', 'mnasnet_b1', 'mnasnet_small', 'mobilenetv2_100', 'mobilenetv2_110d', 'mobilenetv2_120d', 'mobilenetv2_140', 'mobilenetv3_large_075', 'mobilenetv3_large_100', 'mobilenetv3_rw', 'mobilenetv3_small_075', 'mobilenetv3_small_100', 'nasnetalarge', 'pnasnet5large', 'regnetx_002', 'regnetx_004', 'regnetx_006', 'regnetx_008', 'regnetx_016', 'regnetx_032', 'regnetx_040', 'regnetx_064', 'regnetx_080', 'regnetx_120', 'regnetx_160', 'regnetx_320', 'regnety_002', 'regnety_004', 'regnety_006', 'regnety_008', 'regnety_016', 'regnety_032', 'regnety_040', 'regnety_064', 'regnety_080', 'regnety_120', 'regnety_160', 'regnety_320', 'res2net50_14w_8s', 'res2net50_26w_4s', 'res2net50_26w_6s', 'res2net50_26w_8s', 'res2net50_48w_2s', 'res2net101_26w_4s', 'res2next50', 'resnest14d', 'resnest26d', 'resnest50d', 'resnest50d_1s4x24d', 'resnest50d_4s2x40d', 'resnest101e', 'resnest200e', 'resnest269e', 'resnet18', 'resnet18d', 'resnet26', 'resnet26d', 'resnet34', 'resnet34d', 'resnet50', 'resnet50d', 'resnet101', 'resnet101d', 'resnet101d_320', 'resnet152', 'resnet152d', 'resnet152d_320', 'resnet200', 'resnet200d', 'resnet200d_320', 'resnetblur18', 'resnetblur50', 'resnext50_32x4d', 'resnext50d_32x4d', 'resnext101_32x4d', 'resnext101_32x8d', 'resnext101_64x4d', 'rexnet_100', 'rexnet_130', 'rexnet_150', 'rexnet_200', 'rexnetr_100', 'rexnetr_130', 'rexnetr_150', 'rexnetr_200', 'selecsls42', 'selecsls42b', 'selecsls60', 'selecsls60b', 'selecsls84', 'semnasnet_050', 'semnasnet_075', 'semnasnet_100', 'semnasnet_140', 'senet154', 'seresnet18', 'seresnet34', 'seresnet50', 'seresnet50tn', 'seresnet101', 'seresnet152', 'seresnet152d', 'seresnet152d_320', 'seresnext26_32x4d', 'seresnext26d_32x4d', 'seresnext26t_32x4d', 'seresnext26tn_32x4d', 'seresnext50_32x4d', 'seresnext101_32x4d', 'seresnext101_32x8d', 'skresnet18', 'skresnet34', 'skresnet50', 'skresnet50d', 'skresnext50_32x4d', 'spnasnet_100', 'ssl_resnet18', 'ssl_resnet50', 'ssl_resnext50_32x4d', 'ssl_resnext101_32x4d', 'ssl_resnext101_32x8d', 'ssl_resnext101_32x16d', 'swsl_resnet18', 'swsl_resnet50', 'swsl_resnext50_32x4d', 'swsl_resnext101_32x4d', 'swsl_resnext101_32x8d', 'swsl_resnext101_32x16d', 'tf_efficientnet_b0', 'tf_efficientnet_b0_ap', 'tf_efficientnet_b0_ns', 'tf_efficientnet_b1', 'tf_efficientnet_b1_ap', 'tf_efficientnet_b1_ns', 'tf_efficientnet_b2', 'tf_efficientnet_b2_ap', 'tf_efficientnet_b2_ns', 'tf_efficientnet_b3', 'tf_efficientnet_b3_ap', 'tf_efficientnet_b3_ns', 'tf_efficientnet_b4', 'tf_efficientnet_b4_ap', 'tf_efficientnet_b4_ns', 'tf_efficientnet_b5', 'tf_efficientnet_b5_ap', 'tf_efficientnet_b5_ns', 'tf_efficientnet_b6', 'tf_efficientnet_b6_ap', 'tf_efficientnet_b6_ns', 'tf_efficientnet_b7', 'tf_efficientnet_b7_ap', 'tf_efficientnet_b7_ns', 'tf_efficientnet_b8', 'tf_efficientnet_b8_ap', 'tf_efficientnet_cc_b0_4e', 'tf_efficientnet_cc_b0_8e', 'tf_efficientnet_cc_b1_8e', 'tf_efficientnet_el', 'tf_efficientnet_em', 'tf_efficientnet_es', 'tf_efficientnet_l2_ns', 'tf_efficientnet_l2_ns_475', 'tf_efficientnet_lite0', 'tf_efficientnet_lite1', 'tf_efficientnet_lite2', 'tf_efficientnet_lite3', 'tf_efficientnet_lite4', 'tf_inception_v3', 'tf_mixnet_l', 'tf_mixnet_m', 'tf_mixnet_s', 'tf_mobilenetv3_large_075', 'tf_mobilenetv3_large_100', 'tf_mobilenetv3_large_minimal_100', 'tf_mobilenetv3_small_075', 'tf_mobilenetv3_small_100', 'tf_mobilenetv3_small_minimal_100', 'tresnet_l', 'tresnet_l_448', 'tresnet_m', 'tresnet_m_448', 'tresnet_xl', 'tresnet_xl_448', 'tv_densenet121', 'tv_resnet34', 'tv_resnet50', 'tv_resnet101', 'tv_resnet152', 'tv_resnext50_32x4d', 'vit_base_patch16_224', 'vit_base_patch16_384', 'vit_base_patch32_384', 'vit_base_resnet26d_224', 'vit_base_resnet50d_224', 'vit_huge_patch16_224', 'vit_huge_patch32_384', 'vit_large_patch16_224', 'vit_large_patch16_384', 'vit_large_patch32_384', 'vit_small_patch16_224', 'vit_small_resnet26d_224', 'vit_small_resnet50d_s3_224', 'vovnet39a', 'vovnet57a', 'wide_resnet50_2', 'wide_resnet101_2', 'xception', 'xception41', 'xception65', 'xception71']\n"
     ]
    }
   ],
   "source": [
    "supported_models = timm.list_models()\n",
    "print(f\"{len(supported_models)} models are supported in timm.\")\n",
    "print(supported_models)"
   ]
  },
  {
   "cell_type": "markdown",
   "metadata": {
    "papermill": {
     "duration": null,
     "end_time": null,
     "exception": null,
     "start_time": null,
     "status": "pending"
    },
    "tags": []
   },
   "source": [
    "Wow more than 300 models are supported!<br/>\n",
    "It of course includes **resnet** related models, **efficientnet**, etc.<br/>\n",
    "You may wonder which model should be used?<br/>\n",
    "I will go with `resnet18` as a baseline at first, and try using more deeper/latest models in the experiment."
   ]
  },
  {
   "cell_type": "markdown",
   "metadata": {
    "papermill": {
     "duration": null,
     "end_time": null,
     "exception": null,
     "start_time": null,
     "status": "pending"
    },
    "tags": []
   },
   "source": [
    "<a id=\"trainscript\"></a>\n",
    "# Training scripts"
   ]
  },
  {
   "cell_type": "code",
   "execution_count": 26,
   "metadata": {
    "papermill": {
     "duration": null,
     "end_time": null,
     "exception": null,
     "start_time": null,
     "status": "pending"
    },
    "tags": []
   },
   "outputs": [],
   "source": [
    "# 5fold validation\n",
    "skf = StratifiedKFold(n_splits=5, shuffle=True, random_state=flags.seed)\n",
    "y = np.array([int(len(d[\"annotations\"]) > 0) for d in dataset_dicts])\n",
    "split_inds = list(skf.split(dataset_dicts, y)) # dataset_dictsから生成\n",
    "train_inds, valid_inds = split_inds[flags.target_fold]  # 0th fold\n",
    "train_dataset = VinbigdataTwoClassDataset(\n",
    "    [dataset_dicts[i] for i in train_inds],\n",
    "    image_transform=Transform(flags.aug_kwargs),\n",
    "    mixup_prob=flags.mixup_prob,\n",
    "    label_smoothing=flags.label_smoothing,\n",
    ")\n",
    "valid_dataset = VinbigdataTwoClassDataset([dataset_dicts[i] for i in valid_inds])"
   ]
  },
  {
   "cell_type": "code",
   "execution_count": 29,
   "metadata": {},
   "outputs": [],
   "source": [
    "# datasetなど定義\n",
    "train_loader = DataLoader(\n",
    "    train_dataset,\n",
    "    batch_size=flags.batchsize,\n",
    "    num_workers=flags.num_workers,\n",
    "    shuffle=True,\n",
    "    pin_memory=True,\n",
    ")\n",
    "valid_loader = DataLoader(\n",
    "    valid_dataset,\n",
    "    batch_size=flags.valid_batchsize,\n",
    "    num_workers=flags.num_workers,\n",
    "    shuffle=False,\n",
    "    pin_memory=True,\n",
    ")\n",
    "\n",
    "device = torch.device(flags.device)\n",
    "\n",
    "predictor = build_predictor(model_name=flags.model_name, model_mode=flags.model_mode)\n",
    "classifier = Classifier(predictor)\n",
    "model = classifier\n",
    "# optimizer = optim.Adam(model.parameters(), lr=1e-3)\n",
    "optimizer = optim.Adam([param for param in model.parameters() if param.requires_grad], lr=1e-3)\n",
    "\n",
    "# Train setup\n",
    "trainer = create_trainer(model, optimizer, device)\n",
    "\n",
    "ema = EMA(predictor, decay=flags.ema_decay)\n",
    "\n",
    "def eval_func(*batch):\n",
    "    loss, metrics = model(*[elem.to(device) for elem in batch])\n",
    "    # HACKING: report ema value with prefix.\n",
    "    if flags.ema_decay > 0:\n",
    "        classifier.prefix = \"ema_\"\n",
    "        ema.assign()\n",
    "        loss, metrics = model(*[elem.to(device) for elem in batch])\n",
    "        ema.resume()\n",
    "        classifier.prefix = \"\"\n",
    "\n",
    "valid_evaluator = E.Evaluator(\n",
    "    valid_loader, model, progress_bar=False, eval_func=eval_func, device=device\n",
    ")"
   ]
  },
  {
   "cell_type": "code",
   "execution_count": 30,
   "metadata": {
    "papermill": {
     "duration": null,
     "end_time": null,
     "exception": null,
     "start_time": null,
     "status": "pending"
    },
    "tags": []
   },
   "outputs": [
    {
     "name": "stdout",
     "output_type": "stream",
     "text": [
      "using CosineAnnealingWarmRestarts scheduler with kwargs {'T_0': 28125}\n"
     ]
    },
    {
     "data": {
      "application/vnd.jupyter.widget-view+json": {
       "model_id": "4bfa2b355c284ce9a4a70f2854c5fea4",
       "version_major": 2,
       "version_minor": 0
      },
      "text/plain": [
       "VBox(children=(HBox(children=(FloatProgress(value=0.0, bar_style='info', description='total', max=1.0), HTML(v…"
      ]
     },
     "metadata": {},
     "output_type": "display_data"
    },
    {
     "data": {
      "application/vnd.jupyter.widget-view+json": {
       "model_id": "387a608e0661455f9359f4a4cdf6d61d",
       "version_major": 2,
       "version_minor": 0
      },
      "text/plain": [
       "HTML(value='')"
      ]
     },
     "metadata": {},
     "output_type": "display_data"
    }
   ],
   "source": [
    "\n",
    "# log_trigger = (10 if debug else 1000, \"iteration\")\n",
    "log_trigger = (1, \"epoch\")\n",
    "log_report = E.LogReport(trigger=log_trigger)\n",
    "extensions = [\n",
    "    log_report,\n",
    "    E.ProgressBarNotebook(update_interval=10 if debug else 100),  # Show progress bar during training\n",
    "    E.PrintReportNotebook(),  # Show \"log\" on jupyter notebook  \n",
    "    # E.ProgressBar(update_interval=10 if debug else 100),  # Show progress bar during training\n",
    "    # E.PrintReport(),  # Print \"log\" to terminal\n",
    "    E.FailOnNonNumber(),  # Stop training when nan is detected.\n",
    "]\n",
    "epoch = flags.epoch\n",
    "models = {\"main\": model}\n",
    "optimizers = {\"main\": optimizer}\n",
    "manager = IgniteExtensionsManager(\n",
    "    trainer, models, optimizers, epoch, extensions=extensions, out_dir=str(outdir),\n",
    ")\n",
    "# Run evaluation for valid dataset in each epoch.\n",
    "manager.extend(valid_evaluator)\n",
    "\n",
    "# Save predictor.pt every epoch\n",
    "manager.extend(\n",
    "    E.snapshot_object(predictor, \"predictor.pt\"), trigger=(flags.snapshot_freq, \"epoch\")\n",
    ")\n",
    "# Check & Save best validation predictor.pt every epoch\n",
    "# manager.extend(E.snapshot_object(predictor, \"best_predictor.pt\"),\n",
    "#                trigger=MinValueTrigger(\"validation/module/nll\",\n",
    "#                trigger=(flags.snapshot_freq, \"iteration\")))\n",
    "\n",
    "# --- lr scheduler ---\n",
    "if flags.scheduler_type != \"\":\n",
    "    scheduler_type = flags.scheduler_type\n",
    "    print(f\"using {scheduler_type} scheduler with kwargs {flags.scheduler_kwargs}\")\n",
    "    manager.extend(\n",
    "        LRScheduler(optimizer, scheduler_type, flags.scheduler_kwargs),\n",
    "        trigger=flags.scheduler_trigger,\n",
    "    )\n",
    "\n",
    "manager.extend(E.observe_lr(optimizer=optimizer), trigger=log_trigger)\n",
    "\n",
    "if flags.ema_decay > 0:\n",
    "    # Exponential moving average\n",
    "    manager.extend(lambda manager: ema(), trigger=(1, \"iteration\"))\n",
    "\n",
    "    def save_ema_model(manager):\n",
    "        ema.assign()\n",
    "        torch.save(predictor.state_dict(), outdir / \"predictor_ema.pt\")\n",
    "        ema.resume()\n",
    "\n",
    "    manager.extend(save_ema_model, trigger=(flags.snapshot_freq, \"epoch\"))\n",
    "\n",
    "_ = trainer.run(train_loader, max_epochs=epoch)"
   ]
  },
  {
   "cell_type": "markdown",
   "metadata": {
    "papermill": {
     "duration": null,
     "end_time": null,
     "exception": null,
     "start_time": null,
     "status": "pending"
    },
    "tags": []
   },
   "source": [
    "So what is happening in above training abstraction? Let's understand what each extension did.\n",
    "\n",
    "**Extensions** - Each role:\n",
    " - **`ProgressBar` (`ProgressBarNotebook`)**: Shows training progress in formatted style.\n",
    " - **`LogReport`**: Logging metrics reported by `ppe.reporter.report` (see `LyftMultiRegressor` for reporting point) method and save to **log** file. It automatically collects reported value in each iteration and saves the \"mean\" of reported value for regular frequency (for example every 1 epoch).\n",
    " - **`PrintReport` (`PrintReportNotebook`)**: Prints the value which `LogReport` collected in formatted style.\n",
    " - **`Evaluator`**: Evaluate on validation dataset.\n",
    " - **`snapshot_object`**: Saves the object. Here the `model` is saved in regular interval `flags.snapshot_freq`. Even you quit training using Ctrl+C without finishing all the epoch, the intermediate trained model is saved and you can use it for inference.\n",
    " - **`LRScheduler`**: You can insert learning rate scheduling with this extension, together with the regular interval call specified by `trigger`. Here cosine annealing is applied (configured by Flags) by calling `scheduler.step()` every iteration.\n",
    " - **`observe_lr`**: `LogReport` will check optimizer's learning rate using this extension. So you can follow how the learning rate changed through the training.\n",
    "\n",
    "\n",
    "Such many functionalities can be \"added\" easily using extensions!"
   ]
  },
  {
   "cell_type": "markdown",
   "metadata": {
    "papermill": {
     "duration": null,
     "end_time": null,
     "exception": null,
     "start_time": null,
     "status": "pending"
    },
    "tags": []
   },
   "source": [
    "Also **Exponential Moving Average of model weights** is calculated by `EMA` class during training, together with showing its validation loss. We can usually obtrain more stable models with EMA."
   ]
  },
  {
   "cell_type": "markdown",
   "metadata": {
    "papermill": {
     "duration": null,
     "end_time": null,
     "exception": null,
     "start_time": null,
     "status": "pending"
    },
    "tags": []
   },
   "source": [
    "You can obtrain training history results really easily by just accessing `LogReport` class, which is useful for managing a lot of experiments during kaggle competitions."
   ]
  },
  {
   "cell_type": "code",
   "execution_count": 34,
   "metadata": {
    "papermill": {
     "duration": null,
     "end_time": null,
     "exception": null,
     "start_time": null,
     "status": "pending"
    },
    "tags": []
   },
   "outputs": [
    {
     "data": {
      "text/html": [
       "<div>\n",
       "<style scoped>\n",
       "    .dataframe tbody tr th:only-of-type {\n",
       "        vertical-align: middle;\n",
       "    }\n",
       "\n",
       "    .dataframe tbody tr th {\n",
       "        vertical-align: top;\n",
       "    }\n",
       "\n",
       "    .dataframe thead th {\n",
       "        text-align: right;\n",
       "    }\n",
       "</style>\n",
       "<table border=\"1\" class=\"dataframe\">\n",
       "  <thead>\n",
       "    <tr style=\"text-align: right;\">\n",
       "      <th></th>\n",
       "      <th>main/loss</th>\n",
       "      <th>main/acc</th>\n",
       "      <th>validation/main/loss</th>\n",
       "      <th>validation/main/acc</th>\n",
       "      <th>validation/main/ema_loss</th>\n",
       "      <th>validation/main/ema_acc</th>\n",
       "      <th>lr</th>\n",
       "      <th>epoch</th>\n",
       "      <th>iteration</th>\n",
       "      <th>elapsed_time</th>\n",
       "    </tr>\n",
       "  </thead>\n",
       "  <tbody>\n",
       "    <tr>\n",
       "      <th>0</th>\n",
       "      <td>0.540290</td>\n",
       "      <td>0.819167</td>\n",
       "      <td>0.262506</td>\n",
       "      <td>0.902926</td>\n",
       "      <td>0.213135</td>\n",
       "      <td>0.911237</td>\n",
       "      <td>0.000993</td>\n",
       "      <td>1</td>\n",
       "      <td>1500</td>\n",
       "      <td>171.466353</td>\n",
       "    </tr>\n",
       "    <tr>\n",
       "      <th>1</th>\n",
       "      <td>0.308306</td>\n",
       "      <td>0.871000</td>\n",
       "      <td>0.223423</td>\n",
       "      <td>0.914229</td>\n",
       "      <td>0.221412</td>\n",
       "      <td>0.910572</td>\n",
       "      <td>0.000972</td>\n",
       "      <td>2</td>\n",
       "      <td>3000</td>\n",
       "      <td>325.903006</td>\n",
       "    </tr>\n",
       "    <tr>\n",
       "      <th>2</th>\n",
       "      <td>0.279861</td>\n",
       "      <td>0.884833</td>\n",
       "      <td>0.204104</td>\n",
       "      <td>0.915559</td>\n",
       "      <td>0.327251</td>\n",
       "      <td>0.885306</td>\n",
       "      <td>0.000938</td>\n",
       "      <td>3</td>\n",
       "      <td>4500</td>\n",
       "      <td>499.995694</td>\n",
       "    </tr>\n",
       "    <tr>\n",
       "      <th>3</th>\n",
       "      <td>0.267133</td>\n",
       "      <td>0.888917</td>\n",
       "      <td>0.201222</td>\n",
       "      <td>0.928191</td>\n",
       "      <td>0.267537</td>\n",
       "      <td>0.886968</td>\n",
       "      <td>0.000892</td>\n",
       "      <td>4</td>\n",
       "      <td>6000</td>\n",
       "      <td>673.472633</td>\n",
       "    </tr>\n",
       "    <tr>\n",
       "      <th>4</th>\n",
       "      <td>0.244779</td>\n",
       "      <td>0.901417</td>\n",
       "      <td>0.222588</td>\n",
       "      <td>0.915559</td>\n",
       "      <td>0.350969</td>\n",
       "      <td>0.846742</td>\n",
       "      <td>0.000835</td>\n",
       "      <td>5</td>\n",
       "      <td>7500</td>\n",
       "      <td>838.183470</td>\n",
       "    </tr>\n",
       "    <tr>\n",
       "      <th>5</th>\n",
       "      <td>0.233133</td>\n",
       "      <td>0.907333</td>\n",
       "      <td>0.185026</td>\n",
       "      <td>0.922872</td>\n",
       "      <td>0.292672</td>\n",
       "      <td>0.909242</td>\n",
       "      <td>0.000768</td>\n",
       "      <td>6</td>\n",
       "      <td>9000</td>\n",
       "      <td>1012.588425</td>\n",
       "    </tr>\n",
       "    <tr>\n",
       "      <th>6</th>\n",
       "      <td>0.218923</td>\n",
       "      <td>0.914167</td>\n",
       "      <td>0.174581</td>\n",
       "      <td>0.936503</td>\n",
       "      <td>0.249616</td>\n",
       "      <td>0.914229</td>\n",
       "      <td>0.000694</td>\n",
       "      <td>7</td>\n",
       "      <td>10500</td>\n",
       "      <td>1187.947124</td>\n",
       "    </tr>\n",
       "    <tr>\n",
       "      <th>7</th>\n",
       "      <td>0.195573</td>\n",
       "      <td>0.918417</td>\n",
       "      <td>0.158647</td>\n",
       "      <td>0.937832</td>\n",
       "      <td>0.178971</td>\n",
       "      <td>0.933843</td>\n",
       "      <td>0.000614</td>\n",
       "      <td>8</td>\n",
       "      <td>12000</td>\n",
       "      <td>1361.388785</td>\n",
       "    </tr>\n",
       "    <tr>\n",
       "      <th>8</th>\n",
       "      <td>0.186458</td>\n",
       "      <td>0.925167</td>\n",
       "      <td>0.205545</td>\n",
       "      <td>0.916888</td>\n",
       "      <td>0.157403</td>\n",
       "      <td>0.938497</td>\n",
       "      <td>0.000531</td>\n",
       "      <td>9</td>\n",
       "      <td>13500</td>\n",
       "      <td>1533.690829</td>\n",
       "    </tr>\n",
       "    <tr>\n",
       "      <th>9</th>\n",
       "      <td>0.166870</td>\n",
       "      <td>0.933417</td>\n",
       "      <td>0.162027</td>\n",
       "      <td>0.940492</td>\n",
       "      <td>0.154114</td>\n",
       "      <td>0.939495</td>\n",
       "      <td>0.000448</td>\n",
       "      <td>10</td>\n",
       "      <td>15000</td>\n",
       "      <td>1699.354319</td>\n",
       "    </tr>\n",
       "    <tr>\n",
       "      <th>10</th>\n",
       "      <td>0.158455</td>\n",
       "      <td>0.937667</td>\n",
       "      <td>0.175081</td>\n",
       "      <td>0.928191</td>\n",
       "      <td>0.140575</td>\n",
       "      <td>0.944149</td>\n",
       "      <td>0.000366</td>\n",
       "      <td>11</td>\n",
       "      <td>16500</td>\n",
       "      <td>1873.847209</td>\n",
       "    </tr>\n",
       "    <tr>\n",
       "      <th>11</th>\n",
       "      <td>0.138904</td>\n",
       "      <td>0.945583</td>\n",
       "      <td>0.152205</td>\n",
       "      <td>0.943484</td>\n",
       "      <td>0.160377</td>\n",
       "      <td>0.937500</td>\n",
       "      <td>0.000287</td>\n",
       "      <td>12</td>\n",
       "      <td>18000</td>\n",
       "      <td>2049.939397</td>\n",
       "    </tr>\n",
       "    <tr>\n",
       "      <th>12</th>\n",
       "      <td>0.127314</td>\n",
       "      <td>0.949333</td>\n",
       "      <td>0.136960</td>\n",
       "      <td>0.946476</td>\n",
       "      <td>0.146037</td>\n",
       "      <td>0.943152</td>\n",
       "      <td>0.000215</td>\n",
       "      <td>13</td>\n",
       "      <td>19500</td>\n",
       "      <td>2226.604121</td>\n",
       "    </tr>\n",
       "    <tr>\n",
       "      <th>13</th>\n",
       "      <td>0.122142</td>\n",
       "      <td>0.950333</td>\n",
       "      <td>0.153150</td>\n",
       "      <td>0.945479</td>\n",
       "      <td>0.141601</td>\n",
       "      <td>0.943152</td>\n",
       "      <td>0.000150</td>\n",
       "      <td>14</td>\n",
       "      <td>21000</td>\n",
       "      <td>2403.700385</td>\n",
       "    </tr>\n",
       "    <tr>\n",
       "      <th>14</th>\n",
       "      <td>0.100667</td>\n",
       "      <td>0.959833</td>\n",
       "      <td>0.139036</td>\n",
       "      <td>0.951463</td>\n",
       "      <td>0.143806</td>\n",
       "      <td>0.951130</td>\n",
       "      <td>0.000096</td>\n",
       "      <td>15</td>\n",
       "      <td>22500</td>\n",
       "      <td>2581.546855</td>\n",
       "    </tr>\n",
       "  </tbody>\n",
       "</table>\n",
       "</div>"
      ],
      "text/plain": [
       "    main/loss  main/acc  validation/main/loss  validation/main/acc  \\\n",
       "0    0.540290  0.819167              0.262506             0.902926   \n",
       "1    0.308306  0.871000              0.223423             0.914229   \n",
       "2    0.279861  0.884833              0.204104             0.915559   \n",
       "3    0.267133  0.888917              0.201222             0.928191   \n",
       "4    0.244779  0.901417              0.222588             0.915559   \n",
       "5    0.233133  0.907333              0.185026             0.922872   \n",
       "6    0.218923  0.914167              0.174581             0.936503   \n",
       "7    0.195573  0.918417              0.158647             0.937832   \n",
       "8    0.186458  0.925167              0.205545             0.916888   \n",
       "9    0.166870  0.933417              0.162027             0.940492   \n",
       "10   0.158455  0.937667              0.175081             0.928191   \n",
       "11   0.138904  0.945583              0.152205             0.943484   \n",
       "12   0.127314  0.949333              0.136960             0.946476   \n",
       "13   0.122142  0.950333              0.153150             0.945479   \n",
       "14   0.100667  0.959833              0.139036             0.951463   \n",
       "\n",
       "    validation/main/ema_loss  validation/main/ema_acc        lr  epoch  \\\n",
       "0                   0.213135                 0.911237  0.000993      1   \n",
       "1                   0.221412                 0.910572  0.000972      2   \n",
       "2                   0.327251                 0.885306  0.000938      3   \n",
       "3                   0.267537                 0.886968  0.000892      4   \n",
       "4                   0.350969                 0.846742  0.000835      5   \n",
       "5                   0.292672                 0.909242  0.000768      6   \n",
       "6                   0.249616                 0.914229  0.000694      7   \n",
       "7                   0.178971                 0.933843  0.000614      8   \n",
       "8                   0.157403                 0.938497  0.000531      9   \n",
       "9                   0.154114                 0.939495  0.000448     10   \n",
       "10                  0.140575                 0.944149  0.000366     11   \n",
       "11                  0.160377                 0.937500  0.000287     12   \n",
       "12                  0.146037                 0.943152  0.000215     13   \n",
       "13                  0.141601                 0.943152  0.000150     14   \n",
       "14                  0.143806                 0.951130  0.000096     15   \n",
       "\n",
       "    iteration  elapsed_time  \n",
       "0        1500    171.466353  \n",
       "1        3000    325.903006  \n",
       "2        4500    499.995694  \n",
       "3        6000    673.472633  \n",
       "4        7500    838.183470  \n",
       "5        9000   1012.588425  \n",
       "6       10500   1187.947124  \n",
       "7       12000   1361.388785  \n",
       "8       13500   1533.690829  \n",
       "9       15000   1699.354319  \n",
       "10      16500   1873.847209  \n",
       "11      18000   2049.939397  \n",
       "12      19500   2226.604121  \n",
       "13      21000   2403.700385  \n",
       "14      22500   2581.546855  "
      ]
     },
     "execution_count": 34,
     "metadata": {},
     "output_type": "execute_result"
    }
   ],
   "source": [
    "torch.save(predictor.state_dict(), outdir / \"predictor_last.pt\")\n",
    "df = log_report.to_dataframe()\n",
    "df.to_csv(outdir / \"log.csv\", index=False)\n",
    "df"
   ]
  },
  {
   "cell_type": "markdown",
   "metadata": {
    "papermill": {
     "duration": null,
     "end_time": null,
     "exception": null,
     "start_time": null,
     "status": "pending"
    },
    "tags": []
   },
   "source": [
    "<a id=\"prediction\"></a>\n",
    "# Prediction on validation & test dataset"
   ]
  },
  {
   "cell_type": "code",
   "execution_count": 35,
   "metadata": {
    "papermill": {
     "duration": null,
     "end_time": null,
     "exception": null,
     "start_time": null,
     "status": "pending"
    },
    "tags": []
   },
   "outputs": [
    {
     "name": "stdout",
     "output_type": "stream",
     "text": [
      "Training done! Start prediction...\n",
      "Load from cache dataset_dicts_cache_test_debug0.pkl\n"
     ]
    }
   ],
   "source": [
    "# --- Prediction ---\n",
    "print(\"Training done! Start prediction...\")\n",
    "# valid data\n",
    "valid_pred = classifier.predict_proba(valid_loader).cpu().numpy()\n",
    "valid_pred_df = pd.DataFrame({\n",
    "    \"image_id\": [dataset_dicts[i][\"image_id\"] for i in valid_inds],\n",
    "    \"class0\": valid_pred[:, 0],\n",
    "    \"class1\": valid_pred[:, 1]\n",
    "})\n",
    "valid_pred_df.to_csv(outdir/\"valid_pred.csv\", index=False)\n",
    "\n",
    "# test data\n",
    "test_meta = pd.read_csv(inputdir / \"../../data\" / \"test_meta.csv\")\n",
    "dataset_dicts_test = get_vinbigdata_dicts_test(imgdir, test_meta, debug=debug)\n",
    "test_dataset = VinbigdataTwoClassDataset(dataset_dicts_test, train=False)\n",
    "test_loader = DataLoader(\n",
    "    test_dataset,\n",
    "    batch_size=flags.valid_batchsize,\n",
    "    num_workers=flags.num_workers,\n",
    "    shuffle=False,\n",
    "    pin_memory=True,\n",
    ")\n",
    "test_pred = classifier.predict_proba(test_loader).cpu().numpy()\n",
    "test_pred_df = pd.DataFrame({\n",
    "    \"image_id\": [d[\"image_id\"] for d in dataset_dicts_test],\n",
    "    \"class0\": test_pred[:, 0],\n",
    "    \"class1\": test_pred[:, 1]\n",
    "})\n",
    "test_pred_df.to_csv(outdir/\"test_pred.csv\", index=False)"
   ]
  },
  {
   "cell_type": "code",
   "execution_count": 36,
   "metadata": {
    "papermill": {
     "duration": null,
     "end_time": null,
     "exception": null,
     "start_time": null,
     "status": "pending"
    },
    "tags": []
   },
   "outputs": [
    {
     "data": {
      "text/html": [
       "<div>\n",
       "<style scoped>\n",
       "    .dataframe tbody tr th:only-of-type {\n",
       "        vertical-align: middle;\n",
       "    }\n",
       "\n",
       "    .dataframe tbody tr th {\n",
       "        vertical-align: top;\n",
       "    }\n",
       "\n",
       "    .dataframe thead th {\n",
       "        text-align: right;\n",
       "    }\n",
       "</style>\n",
       "<table border=\"1\" class=\"dataframe\">\n",
       "  <thead>\n",
       "    <tr style=\"text-align: right;\">\n",
       "      <th></th>\n",
       "      <th>image_id</th>\n",
       "      <th>class0</th>\n",
       "      <th>class1</th>\n",
       "    </tr>\n",
       "  </thead>\n",
       "  <tbody>\n",
       "    <tr>\n",
       "      <th>0</th>\n",
       "      <td>8dec5497ecc246766acfba5a4be4e619</td>\n",
       "      <td>0.999999</td>\n",
       "      <td>7.755958e-07</td>\n",
       "    </tr>\n",
       "    <tr>\n",
       "      <th>1</th>\n",
       "      <td>287422bed1d9d153387361889619abed</td>\n",
       "      <td>0.961340</td>\n",
       "      <td>3.866021e-02</td>\n",
       "    </tr>\n",
       "    <tr>\n",
       "      <th>2</th>\n",
       "      <td>1d12b94b7acbeadef7d7700b50aa90d4</td>\n",
       "      <td>0.999759</td>\n",
       "      <td>2.407542e-04</td>\n",
       "    </tr>\n",
       "    <tr>\n",
       "      <th>3</th>\n",
       "      <td>6b872791e23742f6c33a08fc24f77365</td>\n",
       "      <td>0.970897</td>\n",
       "      <td>2.910336e-02</td>\n",
       "    </tr>\n",
       "    <tr>\n",
       "      <th>4</th>\n",
       "      <td>d0d2addff91ad7beb1d92126ff74d621</td>\n",
       "      <td>0.999995</td>\n",
       "      <td>5.397857e-06</td>\n",
       "    </tr>\n",
       "    <tr>\n",
       "      <th>...</th>\n",
       "      <td>...</td>\n",
       "      <td>...</td>\n",
       "      <td>...</td>\n",
       "    </tr>\n",
       "    <tr>\n",
       "      <th>2995</th>\n",
       "      <td>78b44b96b121d6075d7ae27135278e03</td>\n",
       "      <td>0.999999</td>\n",
       "      <td>9.102185e-07</td>\n",
       "    </tr>\n",
       "    <tr>\n",
       "      <th>2996</th>\n",
       "      <td>afee8ff90f29b8827d0eb78774d25324</td>\n",
       "      <td>0.999998</td>\n",
       "      <td>2.117764e-06</td>\n",
       "    </tr>\n",
       "    <tr>\n",
       "      <th>2997</th>\n",
       "      <td>6e07fab2014be723250f7897ab6e3df2</td>\n",
       "      <td>0.996857</td>\n",
       "      <td>3.142978e-03</td>\n",
       "    </tr>\n",
       "    <tr>\n",
       "      <th>2998</th>\n",
       "      <td>690bb572300ef08bbbb7ebf4196099cf</td>\n",
       "      <td>0.997173</td>\n",
       "      <td>2.826942e-03</td>\n",
       "    </tr>\n",
       "    <tr>\n",
       "      <th>2999</th>\n",
       "      <td>0a08191a658edb1327e7282045ec71cf</td>\n",
       "      <td>0.988616</td>\n",
       "      <td>1.138386e-02</td>\n",
       "    </tr>\n",
       "  </tbody>\n",
       "</table>\n",
       "<p>3000 rows × 3 columns</p>\n",
       "</div>"
      ],
      "text/plain": [
       "                              image_id    class0        class1\n",
       "0     8dec5497ecc246766acfba5a4be4e619  0.999999  7.755958e-07\n",
       "1     287422bed1d9d153387361889619abed  0.961340  3.866021e-02\n",
       "2     1d12b94b7acbeadef7d7700b50aa90d4  0.999759  2.407542e-04\n",
       "3     6b872791e23742f6c33a08fc24f77365  0.970897  2.910336e-02\n",
       "4     d0d2addff91ad7beb1d92126ff74d621  0.999995  5.397857e-06\n",
       "...                                ...       ...           ...\n",
       "2995  78b44b96b121d6075d7ae27135278e03  0.999999  9.102185e-07\n",
       "2996  afee8ff90f29b8827d0eb78774d25324  0.999998  2.117764e-06\n",
       "2997  6e07fab2014be723250f7897ab6e3df2  0.996857  3.142978e-03\n",
       "2998  690bb572300ef08bbbb7ebf4196099cf  0.997173  2.826942e-03\n",
       "2999  0a08191a658edb1327e7282045ec71cf  0.988616  1.138386e-02\n",
       "\n",
       "[3000 rows x 3 columns]"
      ]
     },
     "execution_count": 36,
     "metadata": {},
     "output_type": "execute_result"
    }
   ],
   "source": [
    "# --- Test dataset prediction result ---\n",
    "test_pred_df"
   ]
  },
  {
   "cell_type": "code",
   "execution_count": 37,
   "metadata": {
    "papermill": {
     "duration": null,
     "end_time": null,
     "exception": null,
     "start_time": null,
     "status": "pending"
    },
    "tags": []
   },
   "outputs": [
    {
     "name": "stderr",
     "output_type": "stream",
     "text": [
      "/home/kentaro123/anaconda3/envs/vinbig/lib/python3.7/site-packages/seaborn/distributions.py:2557: FutureWarning: `distplot` is a deprecated function and will be removed in a future version. Please adapt your code to use either `displot` (a figure-level function with similar flexibility) or `histplot` (an axes-level function for histograms).\n",
      "  warnings.warn(msg, FutureWarning)\n",
      "/home/kentaro123/anaconda3/envs/vinbig/lib/python3.7/site-packages/seaborn/distributions.py:2557: FutureWarning: `distplot` is a deprecated function and will be removed in a future version. Please adapt your code to use either `displot` (a figure-level function with similar flexibility) or `histplot` (an axes-level function for histograms).\n",
      "  warnings.warn(msg, FutureWarning)\n"
     ]
    },
    {
     "data": {
      "text/plain": [
       "<matplotlib.legend.Legend at 0x7f747ed8c910>"
      ]
     },
     "execution_count": 37,
     "metadata": {},
     "output_type": "execute_result"
    },
    {
     "data": {
      "image/png": "[encoded data removed]",
      "text/plain": [
       "<Figure size 432x288 with 1 Axes>"
      ]
     },
     "metadata": {
      "needs_background": "light"
     },
     "output_type": "display_data"
    }
   ],
   "source": [
    "sns.distplot(valid_pred_df[\"class0\"].values, color='green', label='valid pred')\n",
    "sns.distplot(test_pred_df[\"class0\"].values, color='orange', label='test pred')\n",
    "plt.title(\"Prediction results histogram\")\n",
    "plt.xlim([0., 1.])\n",
    "plt.legend()"
   ]
  },
  {
   "cell_type": "markdown",
   "metadata": {
    "papermill": {
     "duration": null,
     "end_time": null,
     "exception": null,
     "start_time": null,
     "status": "pending"
    },
    "tags": []
   },
   "source": [
    "# Apply 2 class filter on detection prediction\n",
    "\n",
    "I will use detection prediction from the kernel:\n",
    " - [📸VinBigData detectron2 train](https://www.kaggle.com/corochann/vinbigdata-detectron2-train)\n",
    " - [📸VinBigData detectron2 prediction](https://www.kaggle.com/corochann/vinbigdata-detectron2-prediction)\n",
    "\n",
    "And 2class prediction is updated as dataset: [vinbigdata-2class-pred](https://www.kaggle.com/corochann/vinbigdata2classpred).\n",
    "\n",
    "As mentioned in [VinBigData 🌟2 Class Filter🌟](https://www.kaggle.com/awsaf49/vinbigdata-2-class-filter) by @awsaf49, applying 2-class filter improves LB score significantly. (Please upvote his kernel as well!)<br/>\n",
    "Also, it is mentioned that we can submit **14 prob 1 1 0 0** where the `prob` is the normal probability in the discussion [[Scoring bug] Improve your LB score by 0.053, just adding \"14 1 0 0 1 1\"](https://www.kaggle.com/c/vinbigdata-chest-xray-abnormalities-detection/discussion/211971)!\n",
    "\n",
    "Here, I will propose new post processing (similar to [this](https://www.kaggle.com/c/vinbigdata-chest-xray-abnormalities-detection/discussion/211971#1157809) by @pestipeti):\n",
    "\n",
    "Here `p` is the **normal probability**.\n",
    "\n",
    "1. `p < low_threshold`                   -> Do nothing, Keep det prediction.\n",
    "2. `low_threshold <= p < high_threshold` -> Just \"Add\" Normal prediction, **keep** detection prediction.\n",
    "3. `high_threshold <= p`                 -> Replace with Normal prediction with normal score 1.0, **remove** all detection predictoin.\n",
    "\n",
    "\n",
    "[Note] I also wrote another kernel to train 2-class model: [📸VinBigData 2-class classifier complete pipeline](https://www.kaggle.com/corochann/vinbigdata-2-class-classifier-complete-pipeline) to train these 2-class classifier model!"
   ]
  },
  {
   "cell_type": "code",
   "execution_count": 38,
   "metadata": {
    "papermill": {
     "duration": null,
     "end_time": null,
     "exception": null,
     "start_time": null,
     "status": "pending"
    },
    "tags": []
   },
   "outputs": [
    {
     "data": {
      "text/html": [
       "<div>\n",
       "<style scoped>\n",
       "    .dataframe tbody tr th:only-of-type {\n",
       "        vertical-align: middle;\n",
       "    }\n",
       "\n",
       "    .dataframe tbody tr th {\n",
       "        vertical-align: top;\n",
       "    }\n",
       "\n",
       "    .dataframe thead th {\n",
       "        text-align: right;\n",
       "    }\n",
       "</style>\n",
       "<table border=\"1\" class=\"dataframe\">\n",
       "  <thead>\n",
       "    <tr style=\"text-align: right;\">\n",
       "      <th></th>\n",
       "      <th>image_id</th>\n",
       "      <th>class0</th>\n",
       "      <th>class1</th>\n",
       "    </tr>\n",
       "  </thead>\n",
       "  <tbody>\n",
       "    <tr>\n",
       "      <th>0</th>\n",
       "      <td>8dec5497ecc246766acfba5a4be4e619</td>\n",
       "      <td>0.976988</td>\n",
       "      <td>0.023012</td>\n",
       "    </tr>\n",
       "    <tr>\n",
       "      <th>1</th>\n",
       "      <td>287422bed1d9d153387361889619abed</td>\n",
       "      <td>0.950402</td>\n",
       "      <td>0.049598</td>\n",
       "    </tr>\n",
       "    <tr>\n",
       "      <th>2</th>\n",
       "      <td>1d12b94b7acbeadef7d7700b50aa90d4</td>\n",
       "      <td>0.995952</td>\n",
       "      <td>0.004048</td>\n",
       "    </tr>\n",
       "    <tr>\n",
       "      <th>3</th>\n",
       "      <td>6b872791e23742f6c33a08fc24f77365</td>\n",
       "      <td>0.874948</td>\n",
       "      <td>0.125052</td>\n",
       "    </tr>\n",
       "    <tr>\n",
       "      <th>4</th>\n",
       "      <td>d0d2addff91ad7beb1d92126ff74d621</td>\n",
       "      <td>0.997519</td>\n",
       "      <td>0.002481</td>\n",
       "    </tr>\n",
       "    <tr>\n",
       "      <th>...</th>\n",
       "      <td>...</td>\n",
       "      <td>...</td>\n",
       "      <td>...</td>\n",
       "    </tr>\n",
       "    <tr>\n",
       "      <th>2995</th>\n",
       "      <td>78b44b96b121d6075d7ae27135278e03</td>\n",
       "      <td>0.991775</td>\n",
       "      <td>0.008225</td>\n",
       "    </tr>\n",
       "    <tr>\n",
       "      <th>2996</th>\n",
       "      <td>afee8ff90f29b8827d0eb78774d25324</td>\n",
       "      <td>0.998331</td>\n",
       "      <td>0.001669</td>\n",
       "    </tr>\n",
       "    <tr>\n",
       "      <th>2997</th>\n",
       "      <td>6e07fab2014be723250f7897ab6e3df2</td>\n",
       "      <td>0.990037</td>\n",
       "      <td>0.009963</td>\n",
       "    </tr>\n",
       "    <tr>\n",
       "      <th>2998</th>\n",
       "      <td>690bb572300ef08bbbb7ebf4196099cf</td>\n",
       "      <td>0.975643</td>\n",
       "      <td>0.024356</td>\n",
       "    </tr>\n",
       "    <tr>\n",
       "      <th>2999</th>\n",
       "      <td>0a08191a658edb1327e7282045ec71cf</td>\n",
       "      <td>0.993029</td>\n",
       "      <td>0.006971</td>\n",
       "    </tr>\n",
       "  </tbody>\n",
       "</table>\n",
       "<p>3000 rows × 3 columns</p>\n",
       "</div>"
      ],
      "text/plain": [
       "                              image_id    class0    class1\n",
       "0     8dec5497ecc246766acfba5a4be4e619  0.976988  0.023012\n",
       "1     287422bed1d9d153387361889619abed  0.950402  0.049598\n",
       "2     1d12b94b7acbeadef7d7700b50aa90d4  0.995952  0.004048\n",
       "3     6b872791e23742f6c33a08fc24f77365  0.874948  0.125052\n",
       "4     d0d2addff91ad7beb1d92126ff74d621  0.997519  0.002481\n",
       "...                                ...       ...       ...\n",
       "2995  78b44b96b121d6075d7ae27135278e03  0.991775  0.008225\n",
       "2996  afee8ff90f29b8827d0eb78774d25324  0.998331  0.001669\n",
       "2997  6e07fab2014be723250f7897ab6e3df2  0.990037  0.009963\n",
       "2998  690bb572300ef08bbbb7ebf4196099cf  0.975643  0.024356\n",
       "2999  0a08191a658edb1327e7282045ec71cf  0.993029  0.006971\n",
       "\n",
       "[3000 rows x 3 columns]"
      ]
     },
     "execution_count": 38,
     "metadata": {},
     "output_type": "execute_result"
    }
   ],
   "source": [
    "# pred_2class = pd.read_csv(inputdir/\"vinbigdata-2class-prediction/2-cls test pred.csv\")  # LB 0.230\n",
    "# low_threshold = 0.0\n",
    "# high_threshold = 0.95\n",
    "\n",
    "pred_2class = pd.read_csv(inputdir/\"../../data/vinbigdata2classpred/test_pred.csv\")\n",
    "low_threshold = 0.0\n",
    "high_threshold = 0.976\n",
    "pred_2class"
   ]
  },
  {
   "cell_type": "code",
   "execution_count": 39,
   "metadata": {
    "_kg_hide-input": true,
    "papermill": {
     "duration": null,
     "end_time": null,
     "exception": null,
     "start_time": null,
     "status": "pending"
    },
    "tags": []
   },
   "outputs": [
    {
     "name": "stdout",
     "output_type": "stream",
     "text": [
      "n_normal: 3000 -> 1713 with threshold 0.0 & 0.976\n",
      "Keep 0 Add 1287 Replace 1713\n",
      "Saved to ../../data/results/submission.csv\n"
     ]
    }
   ],
   "source": [
    "NORMAL = \"14 1 0 0 1 1\"\n",
    "\n",
    "pred_det_df = pd.read_csv(inputdir/\"../../data/submission.csv\")  # You can load from another submission.csv here too.\n",
    "n_normal_before = len(pred_det_df.query(\"PredictionString == @NORMAL\"))\n",
    "merged_df = pd.merge(pred_det_df, pred_2class, on=\"image_id\", how=\"left\")\n",
    "\n",
    "# 1. p < low_threshold                   -> \"Keep\": Do nothing, Keep det prediction.\n",
    "# 2. low_threshold <= p < high_threshold -> \"Add\": Just \"Add\" Normal prediction\n",
    "# 3. high_threshold <= p                 -> \"Replace\": Replace with Normal prediction\n",
    "\n",
    "if \"target\" in merged_df.columns:\n",
    "    merged_df[\"class0\"] = 1 - merged_df[\"target\"]\n",
    "\n",
    "c0, c1, c2 = 0, 0, 0\n",
    "for i in range(len(merged_df)):\n",
    "    p0 = merged_df.loc[i, \"class0\"]\n",
    "    if p0 < low_threshold:\n",
    "        # Keep, do nothing.\n",
    "        c0 += 1\n",
    "    elif low_threshold <= p0 and p0 < high_threshold:\n",
    "        # Add, keep \"det\" preds and add normal pred.\n",
    "        merged_df.loc[i, \"PredictionString\"] += f\" 14 {p0} 0 0 1 1\"\n",
    "        c1 += 1\n",
    "    else:\n",
    "        # Replace, remove all \"det\" preds.\n",
    "        merged_df.loc[i, \"PredictionString\"] = NORMAL\n",
    "        c2 += 1\n",
    "\n",
    "n_normal_after = len(merged_df.query(\"PredictionString == @NORMAL\"))\n",
    "print(\n",
    "    f\"n_normal: {n_normal_before} -> {n_normal_after} with threshold {low_threshold} & {high_threshold}\"\n",
    ")\n",
    "print(f\"Keep {c0} Add {c1} Replace {c2}\")\n",
    "submission_filepath = str(outdir / \"submission.csv\")\n",
    "submission_df = merged_df[[\"image_id\", \"PredictionString\"]]\n",
    "submission_df.to_csv(submission_filepath, index=False)\n",
    "print(f\"Saved to {submission_filepath}\")"
   ]
  },
  {
   "cell_type": "code",
   "execution_count": null,
   "metadata": {
    "papermill": {
     "duration": null,
     "end_time": null,
     "exception": null,
     "start_time": null,
     "status": "pending"
    },
    "tags": []
   },
   "outputs": [],
   "source": []
  }
 ],
 "metadata": {
  "kernelspec": {
   "display_name": "Python 3",
   "language": "python",
   "name": "python3"
  },
  "language_info": {
   "codemirror_mode": {
    "name": "ipython",
    "version": 3
   },
   "file_extension": ".py",
   "mimetype": "text/x-python",
   "name": "python",
   "nbconvert_exporter": "python",
   "pygments_lexer": "ipython3",
   "version": "3.7.10"
  },
  "papermill": {
   "duration": null,
   "end_time": null,
   "environment_variables": {},
   "exception": null,
   "input_path": "__notebook__.ipynb",
   "output_path": "__notebook__.ipynb",
   "parameters": {},
   "start_time": "2021-02-24T13:46:31.574852",
   "version": "2.1.0"
  }
 },
 "nbformat": 4,
 "nbformat_minor": 4
}
