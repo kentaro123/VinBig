{
 "cells": [
  {
   "cell_type": "markdown",
   "metadata": {
    "papermill": {
     "duration": 0.036574,
     "end_time": "2021-02-24T13:46:35.522674",
     "exception": false,
     "start_time": "2021-02-24T13:46:35.486100",
     "status": "completed"
    },
    "tags": []
   },
   "source": [
    "# VinBigData 2-class classifier complete pipeline\n",
    "\n",
    "This competition is object detection task to find a class and location of thoracic abnormalities from chest x-ray image (radiographs).<br/>\n",
    "I explained how to train detection model in the kernel [📸VinBigData detectron2 train](https://www.kaggle.com/corochann/vinbigdata-detectron2-train).\n",
    "\n",
    "You can learn the usage of following tools to accelerate deep learning tasks in computer vision!\n",
    " - [pytorch](https://github.com/pytorch/pytorch): Deep learning framework, it's popular among researchers for its flexible usage. no need to explain detail!\n",
    " - [albumentations](https://github.com/albumentations-team/albumentations): Image augmentation library, developed by famous kagglers!\n",
    " - [timm](https://github.com/rwightman/pytorch-image-models): pytorch-image-models, it provides a lot of popular SoTA CNN models with pretrained weights.\n",
    " - [pytorch ignite](https://github.com/pytorch/ignite): Traning/Evaluation abstraction framework on top of pytorch.\n",
    " - [pytorch pfn extras](https://github.com/pfnet/pytorch-pfn-extras): It is used to add more feature-rich functionality on Ignite.\n",
    "\n",
    "[Note] Actually, there is on-going discussion [1-step training & prediction](https://www.kaggle.com/c/vinbigdata-chest-xray-abnormalities-detection/discussion/219672), which suggests the way only using detection model while keeping performance almost same with this kernel."
   ]
  },
  {
   "cell_type": "markdown",
   "metadata": {
    "papermill": {
     "duration": 0.034524,
     "end_time": "2021-02-24T13:46:35.591826",
     "exception": false,
     "start_time": "2021-02-24T13:46:35.557302",
     "status": "completed"
    },
    "tags": []
   },
   "source": [
    "# Table of Contents\n",
    "\n",
    "** [Dataset preparation](#dataset)** <br/>\n",
    "** [Installation](#installation)** <br/>\n",
    "** [EDA: distribution between normal & abnormal class](#eda)** <br/>\n",
    "** [Image visualizaion & augmentation with albumentations](#aug)** <br/>\n",
    "** [Defining CNN models](#model)** <br/>\n",
    "** [Training utils](#trainutil)** <br/>\n",
    "** [Training scripts](#trainscript)** <br/>\n",
    "** [Prediction on validation & test dataset](#prediction)** <br/>\n",
    "** [Next step](#nextstep)** <br/>"
   ]
  },
  {
   "cell_type": "markdown",
   "metadata": {
    "papermill": {
     "duration": 0.035286,
     "end_time": "2021-02-24T13:46:35.661579",
     "exception": false,
     "start_time": "2021-02-24T13:46:35.626293",
     "status": "completed"
    },
    "tags": []
   },
   "source": [
    "<a id=\"dataset\"></a>\n",
    "# Dataset preparation\n",
    "\n",
    "Preprocessing x-ray image format (dicom) into normal png image format is already done by @xhlulu in the below discussion:\n",
    " - [Multiple preprocessed datasets: 256/512/1024px, PNG and JPG, modified and original ratio](https://www.kaggle.com/c/vinbigdata-chest-xray-abnormalities-detection/discussion/207955).\n",
    "\n",
    "Here I will just use the dataset [VinBigData Chest X-ray Resized PNG (256x256)](https://www.kaggle.com/xhlulu/vinbigdata-chest-xray-resized-png-256x256) to skip the preprocessing and focus on modeling part. Please upvote the dataset as well!"
   ]
  },
  {
   "cell_type": "code",
   "execution_count": null,
   "metadata": {
    "_kg_hide-input": true,
    "papermill": {
     "duration": 8.118541,
     "end_time": "2021-02-24T13:46:43.845359",
     "exception": false,
     "start_time": "2021-02-24T13:46:35.726818",
     "status": "completed"
    },
    "tags": []
   },
   "outputs": [],
   "source": [
    "import gc\n",
    "import os\n",
    "from pathlib import Path\n",
    "import random\n",
    "import sys\n",
    "\n",
    "from tqdm.notebook import tqdm\n",
    "import numpy as np\n",
    "import pandas as pd\n",
    "import scipy as sp\n",
    "\n",
    "\n",
    "import matplotlib.pyplot as plt\n",
    "import seaborn as sns\n",
    "\n",
    "from IPython.core.display import display, HTML\n",
    "\n",
    "# --- models ---\n",
    "from sklearn import preprocessing\n",
    "from sklearn.model_selection import KFold\n",
    "\n",
    "# import lightgbm as lgb\n",
    "# import xgboost as xgb\n",
    "# import catboost as cb\n",
    "import torch\n",
    "\n",
    "# --- setup ---\n",
    "pd.set_option('max_columns', 50)\n"
   ]
  },
  {
   "cell_type": "code",
   "execution_count": 5,
   "metadata": {},
   "outputs": [
    {
     "name": "stderr",
     "output_type": "stream",
     "text": [
      "fail to import apex_C: apex was not installed or installed without --cpp_ext.\n",
      "fail to import amp_C: apex was not installed or installed without --cpp_ext.\n"
     ]
    }
   ],
   "source": [
    "from module import *"
   ]
  },
  {
   "cell_type": "markdown",
   "metadata": {
    "papermill": {
     "duration": 0.03726,
     "end_time": "2021-02-24T13:46:43.919569",
     "exception": false,
     "start_time": "2021-02-24T13:46:43.882309",
     "status": "completed"
    },
    "tags": []
   },
   "source": [
    "<a id=\"installation\"></a>\n",
    "# Installation\n",
    "\n",
    "detectron2 is not pre-installed in this kaggle docker, so let's install it. \n",
    "We can follow [installation instruction](https://github.com/facebookresearch/detectron2/blob/master/INSTALL.md), we need to know CUDA and pytorch version to install correct `detectron2`."
   ]
  },
  {
   "cell_type": "raw",
   "metadata": {
    "_kg_hide-input": true,
    "_kg_hide-output": true,
    "jupyter": {
     "outputs_hidden": true
    },
    "papermill": {
     "duration": 34.74609,
     "end_time": "2021-02-24T13:47:18.702919",
     "exception": false,
     "start_time": "2021-02-24T13:46:43.956829",
     "status": "completed"
    },
    "tags": []
   },
   "source": [
    "!pip install detectron2 -f \\\n",
    "  https://dl.fbaipublicfiles.com/detectron2/wheels/cu102/torch1.7/index.html\n",
    "!pip install pytorch-pfn-extras timm"
   ]
  },
  {
   "cell_type": "markdown",
   "metadata": {
    "papermill": {
     "duration": 0.056616,
     "end_time": "2021-02-24T13:47:18.815822",
     "exception": false,
     "start_time": "2021-02-24T13:47:18.759206",
     "status": "completed"
    },
    "tags": []
   },
   "source": [
    "This `Flags` class summarizes all the configuratoin available during the training.\n",
    "\n",
    "As I will show later, you can change various hyperparameters to experiment improving your models!"
   ]
  },
  {
   "cell_type": "code",
   "execution_count": 6,
   "metadata": {
    "_kg_hide-input": true,
    "papermill": {
     "duration": 0.064022,
     "end_time": "2021-02-24T13:47:18.935025",
     "exception": false,
     "start_time": "2021-02-24T13:47:18.871003",
     "status": "completed"
    },
    "tags": []
   },
   "outputs": [],
   "source": [
    "from typing import Any\n",
    "import yaml\n",
    "\n",
    "def save_yaml(filepath: str, content: Any, width: int = 120):\n",
    "    with open(filepath, \"w\") as f:\n",
    "        yaml.dump(content, f, width=width)"
   ]
  },
  {
   "cell_type": "code",
   "execution_count": 7,
   "metadata": {
    "_kg_hide-input": true,
    "papermill": {
     "duration": 0.07403,
     "end_time": "2021-02-24T13:47:19.064767",
     "exception": false,
     "start_time": "2021-02-24T13:47:18.990737",
     "status": "completed"
    },
    "tags": []
   },
   "outputs": [],
   "source": [
    "from dataclasses import dataclass, field\n",
    "from typing import Dict, Any, Tuple, Union, List\n",
    "\n",
    "\n",
    "@dataclass\n",
    "class Flags:\n",
    "    # General\n",
    "    debug: bool = True\n",
    "    outdir: str = \"results/det\"\n",
    "    device: str = \"cuda:1\"\n",
    "\n",
    "    # Data config\n",
    "    imgdir_name: str = \"vinbigdata-chest-xray-resized-png-256x256\"\n",
    "    # split_mode: str = \"all_train\"  # all_train or valid20\n",
    "    seed: int = 111\n",
    "    target_fold: int = 0  # 0~4\n",
    "    label_smoothing: float = 0.0\n",
    "    # Model config\n",
    "    model_name: str = \"resnet18\"\n",
    "    model_mode: str = \"normal\"  # normal, cnn_fixed supported\n",
    "    # Training config\n",
    "    epoch: int = 20\n",
    "    batchsize: int = 8\n",
    "    valid_batchsize: int = 16\n",
    "    num_workers: int = 4\n",
    "    snapshot_freq: int = 5\n",
    "    ema_decay: float = 0.999  # negative value is to inactivate ema.\n",
    "    scheduler_type: str = \"\"\n",
    "    scheduler_kwargs: Dict[str, Any] = field(default_factory=lambda: {})\n",
    "    scheduler_trigger: List[Union[int, str]] = field(default_factory=lambda: [1, \"iteration\"])\n",
    "    aug_kwargs: Dict[str, Dict[str, Any]] = field(default_factory=lambda: {})\n",
    "    mixup_prob: float = -1.0  # Apply mixup augmentation when positive value is set.\n",
    "\n",
    "    def update(self, param_dict: Dict) -> \"Flags\":\n",
    "        # Overwrite by `param_dict`\n",
    "        for key, value in param_dict.items():\n",
    "            if not hasattr(self, key):\n",
    "                raise ValueError(f\"[ERROR] Unexpected key for flag = {key}\")\n",
    "            setattr(self, key, value)\n",
    "        return self"
   ]
  },
  {
   "cell_type": "code",
   "execution_count": 8,
   "metadata": {},
   "outputs": [
    {
     "data": {
      "text/plain": [
       "PosixPath('/home/kentaro123/vinbig/waka_vin/src')"
      ]
     },
     "execution_count": 8,
     "metadata": {},
     "output_type": "execute_result"
    }
   ],
   "source": [
    "base_dir = Path().resolve()\n",
    "base_dir"
   ]
  },
  {
   "cell_type": "code",
   "execution_count": 9,
   "metadata": {
    "_kg_hide-input": true,
    "papermill": {
     "duration": 0.067717,
     "end_time": "2021-02-24T13:47:19.188450",
     "exception": false,
     "start_time": "2021-02-24T13:47:19.120733",
     "status": "completed"
    },
    "tags": []
   },
   "outputs": [],
   "source": [
    "flags_dict = {\n",
    "    \"debug\": False,  # Change to True for fast debug run!\n",
    "    \"outdir\": \"../../data/results/\",\n",
    "    # Data\n",
    "    \"imgdir_name\": \"../../data/\",\n",
    "    # Model\n",
    "    \"model_name\": \"resnet18\",\n",
    "    # Training\n",
    "    \"num_workers\": 4,\n",
    "    \"epoch\": 15,\n",
    "    \"batchsize\": 16,\n",
    "    \"scheduler_type\": \"CosineAnnealingWarmRestarts\",\n",
    "    \"scheduler_kwargs\": {\"T_0\": 28125},  # 15000 * 15 epoch // (batchsize=8)\n",
    "    \"scheduler_trigger\": [1, \"iteration\"],\n",
    "    \"aug_kwargs\": {\n",
    "        \"HorizontalFlip\": {\"p\": 0.5},\n",
    "        \"ShiftScaleRotate\": {\"scale_limit\": 0.15, \"rotate_limit\": 10, \"p\": 0.5},\n",
    "        \"RandomBrightnessContrast\": {\"p\": 0.5},\n",
    "        \"CoarseDropout\": {\"max_holes\": 8, \"max_height\": 25, \"max_width\": 25, \"p\": 0.5},\n",
    "        \"Blur\": {\"blur_limit\": [3, 7], \"p\": 0.5},\n",
    "        \"Downscale\": {\"scale_min\": 0.25, \"scale_max\": 0.9, \"p\": 0.3},\n",
    "        \"RandomGamma\": {\"gamma_limit\": [80, 120], \"p\": 0.6},\n",
    "    }\n",
    "}"
   ]
  },
  {
   "cell_type": "code",
   "execution_count": 10,
   "metadata": {
    "_kg_hide-input": true,
    "papermill": {
     "duration": 0.211013,
     "end_time": "2021-02-24T13:47:19.455966",
     "exception": false,
     "start_time": "2021-02-24T13:47:19.244953",
     "status": "completed"
    },
    "tags": []
   },
   "outputs": [
    {
     "name": "stdout",
     "output_type": "stream",
     "text": [
      "torch 1.7.1\n",
      "flags Flags(debug=False, outdir='../../data/results/', device='cuda:1', imgdir_name='../../data/', seed=111, target_fold=0, label_smoothing=0.0, model_name='resnet18', model_mode='normal', epoch=15, batchsize=16, valid_batchsize=16, num_workers=4, snapshot_freq=5, ema_decay=0.999, scheduler_type='CosineAnnealingWarmRestarts', scheduler_kwargs={'T_0': 28125}, scheduler_trigger=[1, 'iteration'], aug_kwargs={'HorizontalFlip': {'p': 0.5}, 'ShiftScaleRotate': {'scale_limit': 0.15, 'rotate_limit': 10, 'p': 0.5}, 'RandomBrightnessContrast': {'p': 0.5}, 'CoarseDropout': {'max_holes': 8, 'max_height': 25, 'max_width': 25, 'p': 0.5}, 'Blur': {'blur_limit': [3, 7], 'p': 0.5}, 'Downscale': {'scale_min': 0.25, 'scale_max': 0.9, 'p': 0.3}, 'RandomGamma': {'gamma_limit': [80, 120], 'p': 0.6}}, mixup_prob=-1.0)\n"
     ]
    }
   ],
   "source": [
    "import dataclasses\n",
    "\n",
    "# args = parse()\n",
    "print(\"torch\", torch.__version__)\n",
    "flags = Flags().update(flags_dict)\n",
    "print(\"flags\", flags)\n",
    "debug = flags.debug\n",
    "outdir = Path(flags.outdir)\n",
    "os.makedirs(str(outdir), exist_ok=True)\n",
    "flags_dict = dataclasses.asdict(flags)\n",
    "save_yaml(str(outdir / \"flags.yaml\"), flags_dict)\n",
    "\n",
    "# --- Read data ---\n",
    "inputdir = base_dir\n",
    "datadir = inputdir / flags.imgdir_name\n",
    "imgdir = inputdir / flags.imgdir_name\n",
    "\n",
    "# Read in the data CSV files\n",
    "train = pd.read_csv(datadir / \"train.csv\")\n",
    "# sample_submission = pd.read_csv(datadir / 'sample_submission.csv')"
   ]
  },
  {
   "cell_type": "markdown",
   "metadata": {
    "papermill": {
     "duration": 0.056872,
     "end_time": "2021-02-24T13:47:19.568960",
     "exception": false,
     "start_time": "2021-02-24T13:47:19.512088",
     "status": "completed"
    },
    "tags": []
   },
   "source": [
    "<a id=\"eda\"></a>\n",
    "# EDA: distribution between normal & abnormal class\n",
    "\n",
    "At first, let's check how many normal class exist in the training data.\n",
    "It is classified as \"class_name = No finding\" and \"class_id = 14\".\n",
    "\n",
    "However you need to be careful that 3 radiologists annotated for each image, so you can find 3 annotations as you can see below."
   ]
  },
  {
   "cell_type": "code",
   "execution_count": 11,
   "metadata": {
    "papermill": {
     "duration": 0.089306,
     "end_time": "2021-02-24T13:47:19.715178",
     "exception": false,
     "start_time": "2021-02-24T13:47:19.625872",
     "status": "completed"
    },
    "tags": []
   },
   "outputs": [
    {
     "data": {
      "text/html": [
       "<div>\n",
       "<style scoped>\n",
       "    .dataframe tbody tr th:only-of-type {\n",
       "        vertical-align: middle;\n",
       "    }\n",
       "\n",
       "    .dataframe tbody tr th {\n",
       "        vertical-align: top;\n",
       "    }\n",
       "\n",
       "    .dataframe thead th {\n",
       "        text-align: right;\n",
       "    }\n",
       "</style>\n",
       "<table border=\"1\" class=\"dataframe\">\n",
       "  <thead>\n",
       "    <tr style=\"text-align: right;\">\n",
       "      <th></th>\n",
       "      <th>image_id</th>\n",
       "      <th>class_name</th>\n",
       "      <th>class_id</th>\n",
       "      <th>rad_id</th>\n",
       "      <th>x_min</th>\n",
       "      <th>y_min</th>\n",
       "      <th>x_max</th>\n",
       "      <th>y_max</th>\n",
       "    </tr>\n",
       "  </thead>\n",
       "  <tbody>\n",
       "    <tr>\n",
       "      <th>0</th>\n",
       "      <td>50a418190bc3fb1ef1633bf9678929b3</td>\n",
       "      <td>No finding</td>\n",
       "      <td>14</td>\n",
       "      <td>R11</td>\n",
       "      <td>NaN</td>\n",
       "      <td>NaN</td>\n",
       "      <td>NaN</td>\n",
       "      <td>NaN</td>\n",
       "    </tr>\n",
       "    <tr>\n",
       "      <th>45863</th>\n",
       "      <td>50a418190bc3fb1ef1633bf9678929b3</td>\n",
       "      <td>No finding</td>\n",
       "      <td>14</td>\n",
       "      <td>R15</td>\n",
       "      <td>NaN</td>\n",
       "      <td>NaN</td>\n",
       "      <td>NaN</td>\n",
       "      <td>NaN</td>\n",
       "    </tr>\n",
       "    <tr>\n",
       "      <th>57424</th>\n",
       "      <td>50a418190bc3fb1ef1633bf9678929b3</td>\n",
       "      <td>No finding</td>\n",
       "      <td>14</td>\n",
       "      <td>R16</td>\n",
       "      <td>NaN</td>\n",
       "      <td>NaN</td>\n",
       "      <td>NaN</td>\n",
       "      <td>NaN</td>\n",
       "    </tr>\n",
       "  </tbody>\n",
       "</table>\n",
       "</div>"
      ],
      "text/plain": [
       "                               image_id  class_name  class_id rad_id  x_min  \\\n",
       "0      50a418190bc3fb1ef1633bf9678929b3  No finding        14    R11    NaN   \n",
       "45863  50a418190bc3fb1ef1633bf9678929b3  No finding        14    R15    NaN   \n",
       "57424  50a418190bc3fb1ef1633bf9678929b3  No finding        14    R16    NaN   \n",
       "\n",
       "       y_min  x_max  y_max  \n",
       "0        NaN    NaN    NaN  \n",
       "45863    NaN    NaN    NaN  \n",
       "57424    NaN    NaN    NaN  "
      ]
     },
     "execution_count": 11,
     "metadata": {},
     "output_type": "execute_result"
    }
   ],
   "source": [
    "train.query(\"image_id == '50a418190bc3fb1ef1633bf9678929b3'\")"
   ]
  },
  {
   "cell_type": "markdown",
   "metadata": {
    "papermill": {
     "duration": 0.056055,
     "end_time": "2021-02-24T13:47:19.829011",
     "exception": false,
     "start_time": "2021-02-24T13:47:19.772956",
     "status": "completed"
    },
    "tags": []
   },
   "source": [
    "So the question arises, is there an image that the 3 radiologists' opinions differ?\n",
    "\n",
    "Let's check number of \"No finding\" annotations for each image, if the opinions are in complete agreement the number of \"No finding\" annotations should be **0 -> Abnormal(all radiologists does not think this is normal)\" or \"1 -> Normal(all radiologists think this is normal)\"**."
   ]
  },
  {
   "cell_type": "code",
   "execution_count": 12,
   "metadata": {
    "papermill": {
     "duration": 2.784054,
     "end_time": "2021-02-24T13:47:22.670914",
     "exception": false,
     "start_time": "2021-02-24T13:47:19.886860",
     "status": "completed"
    },
    "tags": []
   },
   "outputs": [
    {
     "data": {
      "text/html": [
       "<div>\n",
       "<style scoped>\n",
       "    .dataframe tbody tr th:only-of-type {\n",
       "        vertical-align: middle;\n",
       "    }\n",
       "\n",
       "    .dataframe tbody tr th {\n",
       "        vertical-align: top;\n",
       "    }\n",
       "\n",
       "    .dataframe thead th {\n",
       "        text-align: right;\n",
       "    }\n",
       "</style>\n",
       "<table border=\"1\" class=\"dataframe\">\n",
       "  <thead>\n",
       "    <tr style=\"text-align: right;\">\n",
       "      <th></th>\n",
       "      <th>image_id</th>\n",
       "      <th>num_normal_annotations</th>\n",
       "    </tr>\n",
       "  </thead>\n",
       "  <tbody>\n",
       "    <tr>\n",
       "      <th>0</th>\n",
       "      <td>000434271f63a053c4128a0ba6352c7f</td>\n",
       "      <td>3</td>\n",
       "    </tr>\n",
       "    <tr>\n",
       "      <th>1</th>\n",
       "      <td>00053190460d56c53cc3e57321387478</td>\n",
       "      <td>3</td>\n",
       "    </tr>\n",
       "    <tr>\n",
       "      <th>2</th>\n",
       "      <td>0005e8e3701dfb1dd93d53e2ff537b6e</td>\n",
       "      <td>0</td>\n",
       "    </tr>\n",
       "    <tr>\n",
       "      <th>3</th>\n",
       "      <td>0006e0a85696f6bb578e84fafa9a5607</td>\n",
       "      <td>3</td>\n",
       "    </tr>\n",
       "    <tr>\n",
       "      <th>4</th>\n",
       "      <td>0007d316f756b3fa0baea2ff514ce945</td>\n",
       "      <td>0</td>\n",
       "    </tr>\n",
       "  </tbody>\n",
       "</table>\n",
       "</div>"
      ],
      "text/plain": [
       "                           image_id  num_normal_annotations\n",
       "0  000434271f63a053c4128a0ba6352c7f                       3\n",
       "1  00053190460d56c53cc3e57321387478                       3\n",
       "2  0005e8e3701dfb1dd93d53e2ff537b6e                       0\n",
       "3  0006e0a85696f6bb578e84fafa9a5607                       3\n",
       "4  0007d316f756b3fa0baea2ff514ce945                       0"
      ]
     },
     "execution_count": 12,
     "metadata": {},
     "output_type": "execute_result"
    }
   ],
   "source": [
    "is_normal_df = train.groupby(\"image_id\")[\"class_id\"].agg(lambda s: (s == 14).sum()).reset_index().rename({\"class_id\": \"num_normal_annotations\"}, axis=1)\n",
    "is_normal_df.head()"
   ]
  },
  {
   "cell_type": "markdown",
   "metadata": {
    "papermill": {
     "duration": 0.057139,
     "end_time": "2021-02-24T13:47:22.785326",
     "exception": false,
     "start_time": "2021-02-24T13:47:22.728187",
     "status": "completed"
    },
    "tags": []
   },
   "source": [
    "We could confirm that **always 3 radiologists opinions match** for normal - abnormal diagnosis.\n",
    "\n",
    "[Note] I noticed that it does not apply for the other classes. i.e., 3 radiologists opinions sometimes do not match for the other class of thoracic abnormalities."
   ]
  },
  {
   "cell_type": "code",
   "execution_count": 13,
   "metadata": {
    "papermill": {
     "duration": 0.342447,
     "end_time": "2021-02-24T13:47:23.185283",
     "exception": false,
     "start_time": "2021-02-24T13:47:22.842836",
     "status": "completed"
    },
    "tags": []
   },
   "outputs": [
    {
     "data": {
      "text/plain": [
       "Text(0.5, 1.0, \"The number of 'No finding' annotations in each image\")"
      ]
     },
     "execution_count": 13,
     "metadata": {},
     "output_type": "execute_result"
    },
    {
     "data": {
      "image/png": "[encoded data removed]",
      "text/plain": [
       "<Figure size 432x288 with 1 Axes>"
      ]
     },
     "metadata": {
      "needs_background": "light"
     },
     "output_type": "display_data"
    }
   ],
   "source": [
    "num_normal_anno_counts = is_normal_df[\"num_normal_annotations\"].value_counts()\n",
    "num_normal_anno_counts.plot(kind=\"bar\")\n",
    "plt.title(\"The number of 'No finding' annotations in each image\")"
   ]
  },
  {
   "cell_type": "code",
   "execution_count": 14,
   "metadata": {
    "_kg_hide-input": true,
    "_kg_hide-output": true,
    "papermill": {
     "duration": 0.122332,
     "end_time": "2021-02-24T13:47:23.426049",
     "exception": false,
     "start_time": "2021-02-24T13:47:23.303717",
     "status": "completed"
    },
    "tags": []
   },
   "outputs": [
    {
     "data": {
      "text/html": [
       "<div>\n",
       "<style scoped>\n",
       "    .dataframe tbody tr th:only-of-type {\n",
       "        vertical-align: middle;\n",
       "    }\n",
       "\n",
       "    .dataframe tbody tr th {\n",
       "        vertical-align: top;\n",
       "    }\n",
       "\n",
       "    .dataframe thead th {\n",
       "        text-align: right;\n",
       "    }\n",
       "</style>\n",
       "<table border=\"1\" class=\"dataframe\">\n",
       "  <thead>\n",
       "    <tr style=\"text-align: right;\">\n",
       "      <th></th>\n",
       "      <th>index</th>\n",
       "      <th>num_normal_annotations</th>\n",
       "      <th>name</th>\n",
       "    </tr>\n",
       "  </thead>\n",
       "  <tbody>\n",
       "    <tr>\n",
       "      <th>0</th>\n",
       "      <td>3</td>\n",
       "      <td>10606</td>\n",
       "      <td>Normal</td>\n",
       "    </tr>\n",
       "    <tr>\n",
       "      <th>1</th>\n",
       "      <td>0</td>\n",
       "      <td>4394</td>\n",
       "      <td>Abnormal</td>\n",
       "    </tr>\n",
       "  </tbody>\n",
       "</table>\n",
       "</div>"
      ],
      "text/plain": [
       "   index  num_normal_annotations      name\n",
       "0      3                   10606    Normal\n",
       "1      0                    4394  Abnormal"
      ]
     },
     "execution_count": 14,
     "metadata": {},
     "output_type": "execute_result"
    }
   ],
   "source": [
    "num_normal_anno_counts_df = num_normal_anno_counts.reset_index()\n",
    "num_normal_anno_counts_df[\"name\"] = num_normal_anno_counts_df[\"index\"].map({0: \"Abnormal\", 3: \"Normal\"})\n",
    "num_normal_anno_counts_df"
   ]
  },
  {
   "cell_type": "markdown",
   "metadata": {
    "papermill": {
     "duration": 0.098315,
     "end_time": "2021-02-24T13:47:23.623623",
     "exception": false,
     "start_time": "2021-02-24T13:47:23.525308",
     "status": "completed"
    },
    "tags": []
   },
   "source": [
    "So almost 70% of the data is actually \"Normal\" X-ray images.\n",
    "\n",
    "Only 30% of the images need thoracic abnormality location detection."
   ]
  },
  {
   "cell_type": "raw",
   "metadata": {
    "papermill": {
     "duration": 0.284197,
     "end_time": "2021-02-24T13:47:24.005878",
     "exception": false,
     "start_time": "2021-02-24T13:47:23.721681",
     "status": "completed"
    },
    "tags": []
   },
   "source": [
    "px.pie(num_normal_anno_counts_df, values=\"num_normal_annotations\", names=\"name\", title=\"Normal/Abnormal ratio\")"
   ]
  },
  {
   "cell_type": "markdown",
   "metadata": {
    "papermill": {
     "duration": 0.064668,
     "end_time": "2021-02-24T13:47:24.167261",
     "exception": false,
     "start_time": "2021-02-24T13:47:24.102593",
     "status": "completed"
    },
    "tags": []
   },
   "source": [
    "<a id=\"aug\"></a>\n",
    "# Image visualizaion & augmentation with albumentations\n",
    "\n",
    "When you train CNN models, image augmentation is important to avoid model to overfit.<br/>\n",
    "I'll show examples to use Albumentations to run image augmentation very easily.<br/>\n",
    "At first, I will define pytorch Dataset class for this competition, which can be also used later in the training."
   ]
  },
  {
   "cell_type": "code",
   "execution_count": 11,
   "metadata": {
    "_kg_hide-input": true,
    "papermill": {
     "duration": 0.555508,
     "end_time": "2021-02-24T13:47:24.787654",
     "exception": false,
     "start_time": "2021-02-24T13:47:24.232146",
     "status": "completed"
    },
    "tags": []
   },
   "outputs": [],
   "source": [
    "import pickle\n",
    "from pathlib import Path\n",
    "from typing import Optional\n",
    "\n",
    "import cv2\n",
    "import numpy as np\n",
    "import pandas as pd\n",
    "from detectron2.structures import BoxMode\n",
    "from tqdm import tqdm\n",
    "\n",
    "\n",
    "def get_vinbigdata_dicts(\n",
    "    imgdir: Path,\n",
    "    train_df: pd.DataFrame,\n",
    "    train_data_type: str = \"original\",\n",
    "    use_cache: bool = True,\n",
    "    debug: bool = True,\n",
    "    target_indices: Optional[np.ndarray] = None,\n",
    "):\n",
    "    debug_str = f\"_debug{int(debug)}\"\n",
    "    train_data_type_str = f\"_{train_data_type}\"\n",
    "    cache_path = Path(\".\") / f\"dataset_dicts_cache{train_data_type_str}{debug_str}.pkl\"\n",
    "    if not use_cache or not cache_path.exists():\n",
    "        print(\"Creating data...\")\n",
    "        train_meta = pd.read_csv(imgdir / \"train_meta.csv\")\n",
    "        if debug:\n",
    "            train_meta = train_meta.iloc[:500]  # For debug....\n",
    "\n",
    "        # Load 1 image to get image size.\n",
    "        image_id = train_meta.loc[0, \"image_id\"]\n",
    "        image_path = str(imgdir / \"train\" / f\"{image_id}.png\")\n",
    "        image = cv2.imread(image_path)\n",
    "        resized_height, resized_width, ch = image.shape\n",
    "        print(f\"image shape: {image.shape}\")\n",
    "\n",
    "        dataset_dicts = []\n",
    "        for index, train_meta_row in tqdm(train_meta.iterrows(), total=len(train_meta)):\n",
    "            record = {}\n",
    "\n",
    "            image_id, height, width = train_meta_row.values\n",
    "            filename = str(imgdir / \"train\" / f\"{image_id}.png\")\n",
    "            record[\"file_name\"] = filename\n",
    "            record[\"image_id\"] = image_id\n",
    "            record[\"height\"] = resized_height\n",
    "            record[\"width\"] = resized_width\n",
    "            objs = []\n",
    "            for index2, row in train_df.query(\"image_id == @image_id\").iterrows():\n",
    "                # print(row)\n",
    "                # print(row[\"class_name\"])\n",
    "                # class_name = row[\"class_name\"]\n",
    "                class_id = row[\"class_id\"]\n",
    "                if class_id == 14:\n",
    "                    # It is \"No finding\"\n",
    "                    # This annotator does not find anything, skip.\n",
    "                    pass\n",
    "                else:\n",
    "                    # bbox_original = [int(row[\"x_min\"]), int(row[\"y_min\"]), int(row[\"x_max\"]), int(row[\"y_max\"])]\n",
    "                    h_ratio = resized_height / height\n",
    "                    w_ratio = resized_width / width\n",
    "                    bbox_resized = [\n",
    "                        int(row[\"x_min\"]) * w_ratio,\n",
    "                        int(row[\"y_min\"]) * h_ratio,\n",
    "                        int(row[\"x_max\"]) * w_ratio,\n",
    "                        int(row[\"y_max\"]) * h_ratio,\n",
    "                    ]\n",
    "                    obj = {\n",
    "                        \"bbox\": bbox_resized,\n",
    "                        \"bbox_mode\": BoxMode.XYXY_ABS,\n",
    "                        \"category_id\": class_id,\n",
    "                    }\n",
    "                    objs.append(obj)\n",
    "            record[\"annotations\"] = objs\n",
    "            dataset_dicts.append(record)\n",
    "        with open(cache_path, mode=\"wb\") as f:\n",
    "            pickle.dump(dataset_dicts, f)\n",
    "\n",
    "    print(f\"Load from cache {cache_path}\")\n",
    "    with open(cache_path, mode=\"rb\") as f:\n",
    "        dataset_dicts = pickle.load(f)\n",
    "    if target_indices is not None:\n",
    "        dataset_dicts = [dataset_dicts[i] for i in target_indices]\n",
    "    return dataset_dicts\n",
    "\n",
    "\n",
    "def get_vinbigdata_dicts_test(\n",
    "    imgdir: Path, test_meta: pd.DataFrame, use_cache: bool = True, debug: bool = True,\n",
    "):\n",
    "    debug_str = f\"_debug{int(debug)}\"\n",
    "    cache_path = Path(\".\") / f\"dataset_dicts_cache_test{debug_str}.pkl\"\n",
    "    if not use_cache or not cache_path.exists():\n",
    "        print(\"Creating data...\")\n",
    "        # test_meta = pd.read_csv(imgdir / \"test_meta.csv\")\n",
    "        if debug:\n",
    "            test_meta = test_meta.iloc[:500]  # For debug....\n",
    "\n",
    "        # Load 1 image to get image size.\n",
    "        image_id = test_meta.loc[0, \"image_id\"]\n",
    "        image_path = str(imgdir / \"test\" / f\"{image_id}.png\")\n",
    "        image = cv2.imread(image_path)\n",
    "        resized_height, resized_width, ch = image.shape\n",
    "        print(f\"image shape: {image.shape}\")\n",
    "\n",
    "        dataset_dicts = []\n",
    "        for index, test_meta_row in tqdm(test_meta.iterrows(), total=len(test_meta)):\n",
    "            record = {}\n",
    "\n",
    "            image_id, height, width = test_meta_row.values\n",
    "            filename = str(imgdir / \"test\" / f\"{image_id}.png\")\n",
    "            record[\"file_name\"] = filename\n",
    "            # record[\"image_id\"] = index\n",
    "            record[\"image_id\"] = image_id\n",
    "            record[\"height\"] = resized_height\n",
    "            record[\"width\"] = resized_width\n",
    "            # objs = []\n",
    "            # record[\"annotations\"] = objs\n",
    "            dataset_dicts.append(record)\n",
    "        with open(cache_path, mode=\"wb\") as f:\n",
    "            pickle.dump(dataset_dicts, f)\n",
    "\n",
    "    print(f\"Load from cache {cache_path}\")\n",
    "    with open(cache_path, mode=\"rb\") as f:\n",
    "        dataset_dicts = pickle.load(f)\n",
    "    return dataset_dicts\n"
   ]
  },
  {
   "cell_type": "code",
   "execution_count": 12,
   "metadata": {
    "_kg_hide-input": true,
    "papermill": {
     "duration": 0.080217,
     "end_time": "2021-02-24T13:47:24.934336",
     "exception": false,
     "start_time": "2021-02-24T13:47:24.854119",
     "status": "completed"
    },
    "tags": []
   },
   "outputs": [],
   "source": [
    "\"\"\"\n",
    "Referenced `chainer.dataset.DatasetMixin` to work with pytorch Dataset.\n",
    "\"\"\"\n",
    "import numpy\n",
    "import six\n",
    "import torch\n",
    "from torch.utils.data.dataset import Dataset\n",
    "\n",
    "\n",
    "class DatasetMixin(Dataset):\n",
    "\n",
    "    def __init__(self, transform=None):\n",
    "        self.transform = transform\n",
    "\n",
    "    def __getitem__(self, index):\n",
    "        \"\"\"Returns an example or a sequence of examples.\"\"\"\n",
    "        if torch.is_tensor(index):\n",
    "            index = index.tolist()\n",
    "        if isinstance(index, slice):\n",
    "            current, stop, step = index.indices(len(self))\n",
    "            return [self.get_example_wrapper(i) for i in\n",
    "                    six.moves.range(current, stop, step)]\n",
    "        elif isinstance(index, list) or isinstance(index, numpy.ndarray):\n",
    "            return [self.get_example_wrapper(i) for i in index]\n",
    "        else:\n",
    "            return self.get_example_wrapper(index)\n",
    "\n",
    "    def __len__(self):\n",
    "        \"\"\"Returns the number of data points.\"\"\"\n",
    "        raise NotImplementedError\n",
    "\n",
    "    def get_example_wrapper(self, i):\n",
    "        \"\"\"Wrapper of `get_example`, to apply `transform` if necessary\"\"\"\n",
    "        example = self.get_example(i)\n",
    "        if self.transform:\n",
    "            example = self.transform(example)\n",
    "        return example\n",
    "\n",
    "    def get_example(self, i):\n",
    "        \"\"\"Returns the i-th example.\n",
    "\n",
    "        Implementations should override it. It should raise :class:`IndexError`\n",
    "        if the index is invalid.\n",
    "\n",
    "        Args:\n",
    "            i (int): The index of the example.\n",
    "\n",
    "        Returns:\n",
    "            The i-th example.\n",
    "\n",
    "        \"\"\"\n",
    "        raise NotImplementedError\n"
   ]
  },
  {
   "cell_type": "markdown",
   "metadata": {
    "papermill": {
     "duration": 0.065718,
     "end_time": "2021-02-24T13:47:25.065589",
     "exception": false,
     "start_time": "2021-02-24T13:47:24.999871",
     "status": "completed"
    },
    "tags": []
   },
   "source": [
    "[Update] \n",
    "Here I mixup augmentation in the dataset. It makes interpolation of 2 images, with the label is also modified according to the mix ratio. \n",
    "mixup augmentation is expecially useful when the number of data is limited.\n",
    "Because it can make **combination of any 2 images**, instead of just using 1 image.\n",
    "\n",
    "I also added label smoothing feature. Sometimes it is difficult to learn label is 0, 1. \n",
    "Label smoothing changes its label 0 -> 0.01 & 1 -> 0.99. By smoothing the label the loss surface becomes more \"soft\", and sometimes model can learn well."
   ]
  },
  {
   "cell_type": "code",
   "execution_count": 13,
   "metadata": {
    "papermill": {
     "duration": 0.087691,
     "end_time": "2021-02-24T13:47:25.218027",
     "exception": false,
     "start_time": "2021-02-24T13:47:25.130336",
     "status": "completed"
    },
    "tags": []
   },
   "outputs": [],
   "source": [
    "import cv2\n",
    "import numpy as np\n",
    "\n",
    "\n",
    "class VinbigdataTwoClassDataset(DatasetMixin):\n",
    "    def __init__(self, dataset_dicts, image_transform=None, transform=None, train: bool = True,\n",
    "                 mixup_prob: float = -1.0, label_smoothing: float = 0.0):\n",
    "        super(VinbigdataTwoClassDataset, self).__init__(transform=transform)\n",
    "        self.dataset_dicts = dataset_dicts\n",
    "        self.image_transform = image_transform\n",
    "        self.train = train\n",
    "        self.mixup_prob = mixup_prob\n",
    "        self.label_smoothing = label_smoothing\n",
    "\n",
    "    def _get_single_example(self, i):\n",
    "        d = self.dataset_dicts[i]\n",
    "        filename = d[\"file_name\"]\n",
    "\n",
    "        img = cv2.imread(filename)\n",
    "        if self.image_transform:\n",
    "            img = self.image_transform(img)\n",
    "        img = torch.tensor(np.transpose(img, (2, 0, 1)).astype(np.float32))\n",
    "\n",
    "        if self.train:\n",
    "            label = int(len(d[\"annotations\"]) > 0)  # 0 normal, 1 abnormal\n",
    "            if self.label_smoothing > 0:\n",
    "                if label == 0:\n",
    "                    return img, float(label) + self.label_smoothing\n",
    "                else:\n",
    "                    return img, float(label) - self.label_smoothing\n",
    "            else:\n",
    "                return img, float(label)\n",
    "        else:\n",
    "            # Only return img\n",
    "            return img, None\n",
    "\n",
    "    def get_example(self, i):\n",
    "        img, label = self._get_single_example(i)\n",
    "        if self.mixup_prob > 0. and np.random.uniform() < self.mixup_prob:\n",
    "            j = np.random.randint(0, len(self.dataset_dicts))\n",
    "            p = np.random.uniform()\n",
    "            img2, label2 = self._get_single_example(j)\n",
    "            img = img * p + img2 * (1 - p)\n",
    "            if self.train:\n",
    "                label = label * p + label2 * (1 - p)\n",
    "\n",
    "        if self.train:\n",
    "            label_logit = torch.tensor([1 - label, label], dtype=torch.float32)\n",
    "            return img, label_logit\n",
    "        else:\n",
    "            # Only return img\n",
    "            return img\n",
    "\n",
    "    def __len__(self):\n",
    "        return len(self.dataset_dicts)"
   ]
  },
  {
   "cell_type": "markdown",
   "metadata": {
    "papermill": {
     "duration": 0.064736,
     "end_time": "2021-02-24T13:47:25.348037",
     "exception": false,
     "start_time": "2021-02-24T13:47:25.283301",
     "status": "completed"
    },
    "tags": []
   },
   "source": [
    "Now creating the dataset is just easy as following:"
   ]
  },
  {
   "cell_type": "code",
   "execution_count": 14,
   "metadata": {
    "_kg_hide-output": true,
    "papermill": {
     "duration": null,
     "end_time": null,
     "exception": false,
     "start_time": "2021-02-24T13:47:25.412821",
     "status": "running"
    },
    "tags": []
   },
   "outputs": [
    {
     "name": "stdout",
     "output_type": "stream",
     "text": [
      "Load from cache dataset_dicts_cache_original_debug0.pkl\n"
     ]
    }
   ],
   "source": [
    "dataset_dicts = get_vinbigdata_dicts(imgdir, train, debug=debug)\n",
    "dataset = VinbigdataTwoClassDataset(dataset_dicts)"
   ]
  },
  {
   "cell_type": "markdown",
   "metadata": {
    "papermill": {
     "duration": null,
     "end_time": null,
     "exception": null,
     "start_time": null,
     "status": "pending"
    },
    "tags": []
   },
   "source": [
    "You can access each image and its label (0=Normal, 1=Abnormal) by just access `dataset` with index."
   ]
  },
  {
   "cell_type": "code",
   "execution_count": 15,
   "metadata": {
    "papermill": {
     "duration": null,
     "end_time": null,
     "exception": null,
     "start_time": null,
     "status": "pending"
    },
    "tags": []
   },
   "outputs": [
    {
     "data": {
      "text/plain": [
       "Text(0.5, 1.0, '0-th image: label tensor([1., 0.])')"
      ]
     },
     "execution_count": 15,
     "metadata": {},
     "output_type": "execute_result"
    },
    {
     "data": {
      "image/png": "[encoded data removed]",
      "text/plain": [
       "<Figure size 432x288 with 1 Axes>"
      ]
     },
     "metadata": {
      "needs_background": "light"
     },
     "output_type": "display_data"
    }
   ],
   "source": [
    "index = 0\n",
    "img, label = dataset[index]\n",
    "plt.imshow(img.cpu().numpy().transpose((1, 2, 0)) / 255.)\n",
    "plt.title(f\"{index}-th image: label {label}\")"
   ]
  },
  {
   "cell_type": "markdown",
   "metadata": {
    "papermill": {
     "duration": null,
     "end_time": null,
     "exception": null,
     "start_time": null,
     "status": "pending"
    },
    "tags": []
   },
   "source": [
    "To run augmentation on this image, I will define `Transform` class which is applied each time the data is accessed.\n",
    "\n",
    "You can refer [albumentations](https://github.com/albumentations-team/albumentations) page, that various kinds of augmentation is already implemented and can be used very easily!"
   ]
  },
  {
   "cell_type": "code",
   "execution_count": 16,
   "metadata": {
    "papermill": {
     "duration": null,
     "end_time": null,
     "exception": null,
     "start_time": null,
     "status": "pending"
    },
    "tags": []
   },
   "outputs": [],
   "source": [
    "import albumentations as A\n",
    "\n",
    "\n",
    "class Transform:\n",
    "    def __init__(\n",
    "        self, hflip_prob: float = 0.5, ssr_prob: float = 0.5, random_bc_prob: float = 0.5\n",
    "    ):\n",
    "        self.transform = A.Compose(\n",
    "            [\n",
    "                A.HorizontalFlip(p=hflip_prob),\n",
    "                A.ShiftScaleRotate(\n",
    "                    shift_limit=0.0625, scale_limit=0.1, rotate_limit=10, p=ssr_prob\n",
    "                ),\n",
    "                A.RandomBrightnessContrast(p=random_bc_prob),\n",
    "            ]\n",
    "        )\n",
    "\n",
    "    def __call__(self, image):\n",
    "        image = self.transform(image=image)[\"image\"]\n",
    "        return image\n"
   ]
  },
  {
   "cell_type": "markdown",
   "metadata": {
    "papermill": {
     "duration": null,
     "end_time": null,
     "exception": null,
     "start_time": null,
     "status": "pending"
    },
    "tags": []
   },
   "source": [
    "To use augmentation, you can just define dataset with the `Transform` function."
   ]
  },
  {
   "cell_type": "code",
   "execution_count": 17,
   "metadata": {
    "papermill": {
     "duration": null,
     "end_time": null,
     "exception": null,
     "start_time": null,
     "status": "pending"
    },
    "tags": []
   },
   "outputs": [],
   "source": [
    "aug_dataset = VinbigdataTwoClassDataset(dataset_dicts, image_transform=Transform())"
   ]
  },
  {
   "cell_type": "markdown",
   "metadata": {
    "papermill": {
     "duration": null,
     "end_time": null,
     "exception": null,
     "start_time": null,
     "status": "pending"
    },
    "tags": []
   },
   "source": [
    "Let's visualize, looks good. <br/>\n",
    "You can see each image looks different (rotated, brightness is different etc...) even if it is generated from the same image :)"
   ]
  },
  {
   "cell_type": "code",
   "execution_count": 49,
   "metadata": {
    "_kg_hide-input": true,
    "papermill": {
     "duration": null,
     "end_time": null,
     "exception": null,
     "start_time": null,
     "status": "pending"
    },
    "tags": []
   },
   "outputs": [
    {
     "data": {
      "image/png": "[encoded data removed]",
      "text/plain": [
       "<Figure size 1152x360 with 4 Axes>"
      ]
     },
     "metadata": {
      "needs_background": "light"
     },
     "output_type": "display_data"
    }
   ],
   "source": [
    "# ランダムにもとのデータを拡張したものが選ばれる\n",
    "index = 0\n",
    "\n",
    "n_images = 4\n",
    "\n",
    "fig, axes = plt.subplots(1, n_images, figsize=(16, 5))\n",
    "for i in range(n_images):\n",
    "    # Each time the data is accessed, the result is different due to random augmentation!\n",
    "    img, label = aug_dataset[index]\n",
    "    ax = axes[i]\n",
    "    ax.imshow(img.cpu().numpy().transpose((1, 2, 0)) / 255.)\n",
    "    ax.set_title(f\"{index}-th image: label {label}\")\n",
    "plt.show()"
   ]
  },
  {
   "cell_type": "markdown",
   "metadata": {
    "papermill": {
     "duration": null,
     "end_time": null,
     "exception": null,
     "start_time": null,
     "status": "pending"
    },
    "tags": []
   },
   "source": [
    "**Extend to more general form**\n",
    "\n",
    "Augmentation is very important hyperparameter to improve model's performance, and you want to experiment with various configurations.<br/>\n",
    "Below updated `Transform` function is written to **support all the augmentations implemented in albumentations**.<br/>\n",
    "You can specify `aug_kwargs` from external configuration inside `flag` as follows:\n",
    "\n",
    "```\n",
    "aug_kwargs:\n",
    "  HorizontalFlip: {\"p\": 0.5}\n",
    "  ShiftScaleRotate: {\"scale_limit\": 0.15, \"rotate_limit\": 10, \"p\": 0.5}\n",
    "  RandomBrightnessContrast: {\"p\": 0.5}\n",
    "  CoarseDropout: {\"max_holes\": 8, \"max_height\": 25, \"max_width\": 25, \"p\": 0.5}\n",
    "  Blur: {\"blur_limit\": [3, 7], \"p\": 0.5}\n",
    "  Downscale: {\"scale_min\": 0.25, \"scale_max\": 0.9, \"p\": 0.3}\n",
    "  RandomGamma: {\"gamma_limit\": [80, 120], \"p\": 0.6}\n",
    "```"
   ]
  },
  {
   "cell_type": "code",
   "execution_count": 50,
   "metadata": {
    "papermill": {
     "duration": null,
     "end_time": null,
     "exception": null,
     "start_time": null,
     "status": "pending"
    },
    "tags": []
   },
   "outputs": [],
   "source": [
    "from typing import Dict\n",
    "\n",
    "import albumentations as A\n",
    "\n",
    "\n",
    "class Transform:\n",
    "    def __init__(self, aug_kwargs: Dict):\n",
    "        self.transform = A.Compose(\n",
    "            [getattr(A, name)(**kwargs) for name, kwargs in aug_kwargs.items()]\n",
    "        )\n",
    "\n",
    "    def __call__(self, image):\n",
    "        image = self.transform(image=image)[\"image\"]\n",
    "        return image"
   ]
  },
  {
   "cell_type": "markdown",
   "metadata": {
    "papermill": {
     "duration": null,
     "end_time": null,
     "exception": null,
     "start_time": null,
     "status": "pending"
    },
    "tags": []
   },
   "source": [
    "<a id=\"model\"></a>\n",
    "# Defining CNN models\n",
    "\n",
    "Recently, several libraries of CNN-collection are available on public.\n",
    "\n",
    "I will use `timm` this time. You don't need to impelment deep CNN models by yourself, you can just re-use latest research results without hustle.<br/>\n",
    "You can focus on more about looking data and try experiment now."
   ]
  },
  {
   "cell_type": "code",
   "execution_count": 51,
   "metadata": {
    "_kg_hide-input": true,
    "_kg_hide-output": true,
    "papermill": {
     "duration": null,
     "end_time": null,
     "exception": null,
     "start_time": null,
     "status": "pending"
    },
    "tags": []
   },
   "outputs": [],
   "source": [
    "from torch import nn\n",
    "from torch.nn import Linear\n",
    "\n",
    "\n",
    "class CNNFixedPredictor(nn.Module):\n",
    "    def __init__(self, cnn: nn.Module, num_classes: int = 2):\n",
    "        super(CNNFixedPredictor, self).__init__()\n",
    "        self.cnn = cnn\n",
    "        self.lin = Linear(cnn.num_features, num_classes)\n",
    "        print(\"cnn.num_features\", cnn.num_features)\n",
    "\n",
    "        # We do not learn CNN parameters.\n",
    "        # https://pytorch.org/tutorials/beginner/finetuning_torchvision_models_tutorial.html\n",
    "        for param in self.cnn.parameters():\n",
    "            param.requires_grad = False\n",
    "\n",
    "    def forward(self, x):\n",
    "        feat = self.cnn(x)\n",
    "        return self.lin(feat)\n"
   ]
  },
  {
   "cell_type": "code",
   "execution_count": 52,
   "metadata": {
    "papermill": {
     "duration": null,
     "end_time": null,
     "exception": null,
     "start_time": null,
     "status": "pending"
    },
    "tags": []
   },
   "outputs": [],
   "source": [
    "import timm\n",
    "\n",
    "\n",
    "def build_predictor(model_name: str, model_mode: str = \"normal\"):\n",
    "    if model_mode == \"normal\":\n",
    "        # normal configuration. train all parameters.\n",
    "        return timm.create_model(model_name, pretrained=True, num_classes=2, in_chans=3)\n",
    "    elif model_mode == \"cnn_fixed\":\n",
    "        # normal configuration. train all parameters.\n",
    "        # https://rwightman.github.io/pytorch-image-models/feature_extraction/\n",
    "        timm_model = timm.create_model(model_name, pretrained=True, num_classes=0, in_chans=3)\n",
    "        return CNNFixedPredictor(timm_model, num_classes=2)\n",
    "    else:\n",
    "        raise ValueError(f\"[ERROR] Unexpected value model_mode={model_mode}\")\n"
   ]
  },
  {
   "cell_type": "code",
   "execution_count": 22,
   "metadata": {
    "_kg_hide-input": true,
    "papermill": {
     "duration": null,
     "end_time": null,
     "exception": null,
     "start_time": null,
     "status": "pending"
    },
    "tags": []
   },
   "outputs": [],
   "source": [
    "import torch\n",
    "\n",
    "\n",
    "def accuracy(y: torch.Tensor, t: torch.Tensor) -> torch.Tensor:\n",
    "    \"\"\"Computes multi-class classification accuracy\"\"\"\n",
    "    assert y.shape[:-1] == t.shape, f\"y {y.shape}, t {t.shape} is inconsistent.\"\n",
    "    pred_label = torch.max(y.detach(), dim=-1)[1]\n",
    "    count = t.nelement()\n",
    "    correct = (pred_label == t).sum().float()\n",
    "    acc = correct / count\n",
    "    return acc\n",
    "\n",
    "\n",
    "def accuracy_with_logits(y: torch.Tensor, t: torch.Tensor) -> torch.Tensor:\n",
    "    \"\"\"Computes multi-class classification accuracy\"\"\"\n",
    "    assert y.shape == t.shape\n",
    "    gt_label = torch.max(t.detach(), dim=-1)[1]\n",
    "    return accuracy(y, gt_label)"
   ]
  },
  {
   "cell_type": "code",
   "execution_count": 23,
   "metadata": {
    "papermill": {
     "duration": null,
     "end_time": null,
     "exception": null,
     "start_time": null,
     "status": "pending"
    },
    "tags": []
   },
   "outputs": [],
   "source": [
    "import torch\n",
    "import torch.nn.functional as F\n",
    "\n",
    "\n",
    "def cross_entropy_with_logits(input, target, dim=-1):\n",
    "    loss = torch.sum(- target * F.log_softmax(input, dim), dim)\n",
    "    return loss.mean()\n"
   ]
  },
  {
   "cell_type": "code",
   "execution_count": 24,
   "metadata": {
    "_kg_hide-input": true,
    "papermill": {
     "duration": null,
     "end_time": null,
     "exception": null,
     "start_time": null,
     "status": "pending"
    },
    "tags": []
   },
   "outputs": [
    {
     "name": "stderr",
     "output_type": "stream",
     "text": [
      "fail to import apex_C: apex was not installed or installed without --cpp_ext.\n",
      "fail to import amp_C: apex was not installed or installed without --cpp_ext.\n"
     ]
    }
   ],
   "source": [
    "import torch\n",
    "import torch.nn.functional as F\n",
    "from torch import nn\n",
    "import pytorch_pfn_extras as ppe\n",
    "\n",
    "\n",
    "class Classifier(nn.Module):\n",
    "    \"\"\"two class classfication\"\"\"\n",
    "\n",
    "    def __init__(self, predictor, lossfun=cross_entropy_with_logits):\n",
    "        super().__init__()\n",
    "        self.predictor = predictor\n",
    "        self.lossfun = lossfun\n",
    "        self.prefix = \"\"\n",
    "\n",
    "    def forward(self, image, targets):\n",
    "        outputs = self.predictor(image)\n",
    "        loss = self.lossfun(outputs, targets)\n",
    "        metrics = {\n",
    "            f\"{self.prefix}loss\": loss.item(),\n",
    "            f\"{self.prefix}acc\": accuracy_with_logits(outputs, targets).item()\n",
    "        }\n",
    "        ppe.reporting.report(metrics, self)\n",
    "        return loss, metrics\n",
    "\n",
    "    def predict(self, data_loader):\n",
    "        pred = self.predict_proba(data_loader)\n",
    "        label = torch.argmax(pred, dim=1)\n",
    "        return label\n",
    "\n",
    "    def predict_proba(self, data_loader):\n",
    "        device: torch.device = next(self.parameters()).device\n",
    "        y_list = []\n",
    "        self.eval()\n",
    "        with torch.no_grad():\n",
    "            for batch in data_loader:\n",
    "                if isinstance(batch, (tuple, list)):\n",
    "                    # Assumes first argument is \"image\"\n",
    "                    batch = batch[0].to(device)\n",
    "                else:\n",
    "                    batch = batch.to(device)\n",
    "                y = self.predictor(batch)\n",
    "                y = torch.softmax(y, dim=-1)\n",
    "                y_list.append(y)\n",
    "        pred = torch.cat(y_list)\n",
    "        return pred\n"
   ]
  },
  {
   "cell_type": "markdown",
   "metadata": {
    "papermill": {
     "duration": null,
     "end_time": null,
     "exception": null,
     "start_time": null,
     "status": "pending"
    },
    "tags": []
   },
   "source": [
    "What kind of models are supported in the `timm` library?"
   ]
  },
  {
   "cell_type": "code",
   "execution_count": 25,
   "metadata": {
    "papermill": {
     "duration": null,
     "end_time": null,
     "exception": null,
     "start_time": null,
     "status": "pending"
    },
    "tags": []
   },
   "outputs": [
    {
     "name": "stdout",
     "output_type": "stream",
     "text": [
      "347 models are supported in timm.\n",
      "['adv_inception_v3', 'cspdarknet53', 'cspdarknet53_iabn', 'cspresnet50', 'cspresnet50d', 'cspresnet50w', 'cspresnext50', 'cspresnext50_iabn', 'darknet53', 'densenet121', 'densenet121d', 'densenet161', 'densenet169', 'densenet201', 'densenet264', 'densenet264d_iabn', 'densenetblur121d', 'dla34', 'dla46_c', 'dla46x_c', 'dla60', 'dla60_res2net', 'dla60_res2next', 'dla60x', 'dla60x_c', 'dla102', 'dla102x', 'dla102x2', 'dla169', 'dpn68', 'dpn68b', 'dpn92', 'dpn98', 'dpn107', 'dpn131', 'eca_vovnet39b', 'ecaresnet18', 'ecaresnet50', 'ecaresnet50d', 'ecaresnet50d_pruned', 'ecaresnet101d', 'ecaresnet101d_pruned', 'ecaresnetlight', 'ecaresnext26tn_32x4d', 'efficientnet_b0', 'efficientnet_b1', 'efficientnet_b1_pruned', 'efficientnet_b2', 'efficientnet_b2_pruned', 'efficientnet_b2a', 'efficientnet_b3', 'efficientnet_b3_pruned', 'efficientnet_b3a', 'efficientnet_b4', 'efficientnet_b5', 'efficientnet_b6', 'efficientnet_b7', 'efficientnet_b8', 'efficientnet_cc_b0_4e', 'efficientnet_cc_b0_8e', 'efficientnet_cc_b1_8e', 'efficientnet_el', 'efficientnet_em', 'efficientnet_es', 'efficientnet_l2', 'efficientnet_lite0', 'efficientnet_lite1', 'efficientnet_lite2', 'efficientnet_lite3', 'efficientnet_lite4', 'ens_adv_inception_resnet_v2', 'ese_vovnet19b_dw', 'ese_vovnet19b_slim', 'ese_vovnet19b_slim_dw', 'ese_vovnet39b', 'ese_vovnet39b_evos', 'ese_vovnet57b', 'ese_vovnet99b', 'ese_vovnet99b_iabn', 'fbnetc_100', 'gluon_inception_v3', 'gluon_resnet18_v1b', 'gluon_resnet34_v1b', 'gluon_resnet50_v1b', 'gluon_resnet50_v1c', 'gluon_resnet50_v1d', 'gluon_resnet50_v1s', 'gluon_resnet101_v1b', 'gluon_resnet101_v1c', 'gluon_resnet101_v1d', 'gluon_resnet101_v1s', 'gluon_resnet152_v1b', 'gluon_resnet152_v1c', 'gluon_resnet152_v1d', 'gluon_resnet152_v1s', 'gluon_resnext50_32x4d', 'gluon_resnext101_32x4d', 'gluon_resnext101_64x4d', 'gluon_senet154', 'gluon_seresnext50_32x4d', 'gluon_seresnext101_32x4d', 'gluon_seresnext101_64x4d', 'gluon_xception65', 'hrnet_w18', 'hrnet_w18_small', 'hrnet_w18_small_v2', 'hrnet_w30', 'hrnet_w32', 'hrnet_w40', 'hrnet_w44', 'hrnet_w48', 'hrnet_w64', 'ig_resnext101_32x8d', 'ig_resnext101_32x16d', 'ig_resnext101_32x32d', 'ig_resnext101_32x48d', 'inception_resnet_v2', 'inception_v3', 'inception_v4', 'legacy_senet154', 'legacy_seresnet18', 'legacy_seresnet34', 'legacy_seresnet50', 'legacy_seresnet101', 'legacy_seresnet152', 'legacy_seresnext26_32x4d', 'legacy_seresnext50_32x4d', 'legacy_seresnext101_32x4d', 'mixnet_l', 'mixnet_m', 'mixnet_s', 'mixnet_xl', 'mixnet_xxl', 'mnasnet_050', 'mnasnet_075', 'mnasnet_100', 'mnasnet_140', 'mnasnet_a1', 'mnasnet_b1', 'mnasnet_small', 'mobilenetv2_100', 'mobilenetv2_110d', 'mobilenetv2_120d', 'mobilenetv2_140', 'mobilenetv3_large_075', 'mobilenetv3_large_100', 'mobilenetv3_rw', 'mobilenetv3_small_075', 'mobilenetv3_small_100', 'nasnetalarge', 'pnasnet5large', 'regnetx_002', 'regnetx_004', 'regnetx_006', 'regnetx_008', 'regnetx_016', 'regnetx_032', 'regnetx_040', 'regnetx_064', 'regnetx_080', 'regnetx_120', 'regnetx_160', 'regnetx_320', 'regnety_002', 'regnety_004', 'regnety_006', 'regnety_008', 'regnety_016', 'regnety_032', 'regnety_040', 'regnety_064', 'regnety_080', 'regnety_120', 'regnety_160', 'regnety_320', 'res2net50_14w_8s', 'res2net50_26w_4s', 'res2net50_26w_6s', 'res2net50_26w_8s', 'res2net50_48w_2s', 'res2net101_26w_4s', 'res2next50', 'resnest14d', 'resnest26d', 'resnest50d', 'resnest50d_1s4x24d', 'resnest50d_4s2x40d', 'resnest101e', 'resnest200e', 'resnest269e', 'resnet18', 'resnet18d', 'resnet26', 'resnet26d', 'resnet34', 'resnet34d', 'resnet50', 'resnet50d', 'resnet101', 'resnet101d', 'resnet101d_320', 'resnet152', 'resnet152d', 'resnet152d_320', 'resnet200', 'resnet200d', 'resnet200d_320', 'resnetblur18', 'resnetblur50', 'resnext50_32x4d', 'resnext50d_32x4d', 'resnext101_32x4d', 'resnext101_32x8d', 'resnext101_64x4d', 'rexnet_100', 'rexnet_130', 'rexnet_150', 'rexnet_200', 'rexnetr_100', 'rexnetr_130', 'rexnetr_150', 'rexnetr_200', 'selecsls42', 'selecsls42b', 'selecsls60', 'selecsls60b', 'selecsls84', 'semnasnet_050', 'semnasnet_075', 'semnasnet_100', 'semnasnet_140', 'senet154', 'seresnet18', 'seresnet34', 'seresnet50', 'seresnet50tn', 'seresnet101', 'seresnet152', 'seresnet152d', 'seresnet152d_320', 'seresnext26_32x4d', 'seresnext26d_32x4d', 'seresnext26t_32x4d', 'seresnext26tn_32x4d', 'seresnext50_32x4d', 'seresnext101_32x4d', 'seresnext101_32x8d', 'skresnet18', 'skresnet34', 'skresnet50', 'skresnet50d', 'skresnext50_32x4d', 'spnasnet_100', 'ssl_resnet18', 'ssl_resnet50', 'ssl_resnext50_32x4d', 'ssl_resnext101_32x4d', 'ssl_resnext101_32x8d', 'ssl_resnext101_32x16d', 'swsl_resnet18', 'swsl_resnet50', 'swsl_resnext50_32x4d', 'swsl_resnext101_32x4d', 'swsl_resnext101_32x8d', 'swsl_resnext101_32x16d', 'tf_efficientnet_b0', 'tf_efficientnet_b0_ap', 'tf_efficientnet_b0_ns', 'tf_efficientnet_b1', 'tf_efficientnet_b1_ap', 'tf_efficientnet_b1_ns', 'tf_efficientnet_b2', 'tf_efficientnet_b2_ap', 'tf_efficientnet_b2_ns', 'tf_efficientnet_b3', 'tf_efficientnet_b3_ap', 'tf_efficientnet_b3_ns', 'tf_efficientnet_b4', 'tf_efficientnet_b4_ap', 'tf_efficientnet_b4_ns', 'tf_efficientnet_b5', 'tf_efficientnet_b5_ap', 'tf_efficientnet_b5_ns', 'tf_efficientnet_b6', 'tf_efficientnet_b6_ap', 'tf_efficientnet_b6_ns', 'tf_efficientnet_b7', 'tf_efficientnet_b7_ap', 'tf_efficientnet_b7_ns', 'tf_efficientnet_b8', 'tf_efficientnet_b8_ap', 'tf_efficientnet_cc_b0_4e', 'tf_efficientnet_cc_b0_8e', 'tf_efficientnet_cc_b1_8e', 'tf_efficientnet_el', 'tf_efficientnet_em', 'tf_efficientnet_es', 'tf_efficientnet_l2_ns', 'tf_efficientnet_l2_ns_475', 'tf_efficientnet_lite0', 'tf_efficientnet_lite1', 'tf_efficientnet_lite2', 'tf_efficientnet_lite3', 'tf_efficientnet_lite4', 'tf_inception_v3', 'tf_mixnet_l', 'tf_mixnet_m', 'tf_mixnet_s', 'tf_mobilenetv3_large_075', 'tf_mobilenetv3_large_100', 'tf_mobilenetv3_large_minimal_100', 'tf_mobilenetv3_small_075', 'tf_mobilenetv3_small_100', 'tf_mobilenetv3_small_minimal_100', 'tresnet_l', 'tresnet_l_448', 'tresnet_m', 'tresnet_m_448', 'tresnet_xl', 'tresnet_xl_448', 'tv_densenet121', 'tv_resnet34', 'tv_resnet50', 'tv_resnet101', 'tv_resnet152', 'tv_resnext50_32x4d', 'vit_base_patch16_224', 'vit_base_patch16_384', 'vit_base_patch32_384', 'vit_base_resnet26d_224', 'vit_base_resnet50d_224', 'vit_huge_patch16_224', 'vit_huge_patch32_384', 'vit_large_patch16_224', 'vit_large_patch16_384', 'vit_large_patch32_384', 'vit_small_patch16_224', 'vit_small_resnet26d_224', 'vit_small_resnet50d_s3_224', 'vovnet39a', 'vovnet57a', 'wide_resnet50_2', 'wide_resnet101_2', 'xception', 'xception41', 'xception65', 'xception71']\n"
     ]
    }
   ],
   "source": [
    "supported_models = timm.list_models()\n",
    "print(f\"{len(supported_models)} models are supported in timm.\")\n",
    "print(supported_models)"
   ]
  },
  {
   "cell_type": "markdown",
   "metadata": {
    "papermill": {
     "duration": null,
     "end_time": null,
     "exception": null,
     "start_time": null,
     "status": "pending"
    },
    "tags": []
   },
   "source": [
    "Wow more than 300 models are supported!<br/>\n",
    "It of course includes **resnet** related models, **efficientnet**, etc.<br/>\n",
    "You may wonder which model should be used?<br/>\n",
    "I will go with `resnet18` as a baseline at first, and try using more deeper/latest models in the experiment."
   ]
  },
  {
   "cell_type": "markdown",
   "metadata": {
    "papermill": {
     "duration": null,
     "end_time": null,
     "exception": null,
     "start_time": null,
     "status": "pending"
    },
    "tags": []
   },
   "source": [
    "<a id=\"trainutil\"></a>\n",
    "# Training utils\n",
    "\n",
    "Here are training util methods. You can just copy these to use in other projects."
   ]
  },
  {
   "cell_type": "code",
   "execution_count": 26,
   "metadata": {
    "_kg_hide-input": true,
    "papermill": {
     "duration": null,
     "end_time": null,
     "exception": null,
     "start_time": null,
     "status": "pending"
    },
    "tags": []
   },
   "outputs": [],
   "source": [
    "\"\"\"\n",
    "From https://github.com/pfnet-research/kaggle-lyft-motion-prediction-4th-place-solution\n",
    "\"\"\"\n",
    "from logging import getLogger\n",
    "\n",
    "from torch import nn\n",
    "\n",
    "\n",
    "class EMA(object):\n",
    "    \"\"\"Exponential moving average of model parameters.\n",
    "\n",
    "    Ref\n",
    "     - https://github.com/tensorflow/addons/blob/v0.10.0/tensorflow_addons/optimizers/moving_average.py#L26-L103\n",
    "     - https://anmoljoshi.com/Pytorch-Dicussions/\n",
    "\n",
    "    Args:\n",
    "        model (nn.Module): Model with parameters whose EMA will be kept.\n",
    "        decay (float): Decay rate for exponential moving average.\n",
    "        strict (bool): Apply strict check for `assign` & `resume`.\n",
    "        use_dynamic_decay (bool): Dynamically change decay rate. If `True`, small decay rate is\n",
    "            used at the beginning of training to move moving average faster.\n",
    "    \"\"\"  # NOQA\n",
    "\n",
    "    def __init__(\n",
    "        self,\n",
    "        model: nn.Module,\n",
    "        decay: float,\n",
    "        strict: bool = True,\n",
    "        use_dynamic_decay: bool = True,\n",
    "    ):\n",
    "        self.decay = decay\n",
    "        self.model = model\n",
    "        self.strict = strict\n",
    "        self.use_dynamic_decay = use_dynamic_decay\n",
    "        self.logger = getLogger(__name__)\n",
    "        self.n_step = 0\n",
    "\n",
    "        self.shadow = {}\n",
    "        self.original = {}\n",
    "\n",
    "        # Flag to manage which parameter is assigned.\n",
    "        # When `False`, original model's parameter is used.\n",
    "        # When `True` (`assign` method is called), `shadow` parameter (ema param) is used.\n",
    "        self._assigned = False\n",
    "\n",
    "        # Register model parameters\n",
    "        for name, param in model.named_parameters():\n",
    "            if param.requires_grad:\n",
    "                self.shadow[name] = param.data.clone()\n",
    "\n",
    "    def step(self):\n",
    "        self.n_step += 1\n",
    "        if self.use_dynamic_decay:\n",
    "            _n_step = float(self.n_step)\n",
    "            decay = min(self.decay, (1.0 + _n_step) / (10.0 + _n_step))\n",
    "        else:\n",
    "            decay = self.decay\n",
    "\n",
    "        for name, param in self.model.named_parameters():\n",
    "            if param.requires_grad:\n",
    "                assert name in self.shadow\n",
    "                new_average = (1.0 - decay) * param.data + decay * self.shadow[name]\n",
    "                self.shadow[name] = new_average.clone()\n",
    "\n",
    "    # alias\n",
    "    __call__ = step\n",
    "\n",
    "    def assign(self):\n",
    "        \"\"\"Assign exponential moving average of parameter values to the respective parameters.\"\"\"\n",
    "        if self._assigned:\n",
    "            if self.strict:\n",
    "                raise ValueError(\"[ERROR] `assign` is called again before `resume`.\")\n",
    "            else:\n",
    "                self.logger.warning(\n",
    "                    \"`assign` is called again before `resume`.\"\n",
    "                    \"shadow parameter is already assigned, skip.\"\n",
    "                )\n",
    "                return\n",
    "\n",
    "        for name, param in self.model.named_parameters():\n",
    "            if param.requires_grad:\n",
    "                assert name in self.shadow\n",
    "                self.original[name] = param.data.clone()\n",
    "                param.data = self.shadow[name]\n",
    "        self._assigned = True\n",
    "\n",
    "    def resume(self):\n",
    "        \"\"\"Restore original parameters to a model.\n",
    "\n",
    "        That is, put back the values that were in each parameter at the last call to `assign`.\n",
    "        \"\"\"\n",
    "        if not self._assigned:\n",
    "            if self.strict:\n",
    "                raise ValueError(\"[ERROR] `resume` is called before `assign`.\")\n",
    "            else:\n",
    "                self.logger.warning(\"`resume` is called before `assign`, skip.\")\n",
    "                return\n",
    "\n",
    "        for name, param in self.model.named_parameters():\n",
    "            if param.requires_grad:\n",
    "                assert name in self.shadow\n",
    "                param.data = self.original[name]\n",
    "        self._assigned = False\n"
   ]
  },
  {
   "cell_type": "code",
   "execution_count": 27,
   "metadata": {
    "_kg_hide-input": true,
    "papermill": {
     "duration": null,
     "end_time": null,
     "exception": null,
     "start_time": null,
     "status": "pending"
    },
    "tags": []
   },
   "outputs": [],
   "source": [
    "\"\"\"\n",
    "From https://github.com/pfnet-research/kaggle-lyft-motion-prediction-4th-place-solution\n",
    "\"\"\"\n",
    "from typing import Mapping, Any\n",
    "\n",
    "from torch import optim\n",
    "\n",
    "from pytorch_pfn_extras.training.extension import Extension, PRIORITY_READER\n",
    "from pytorch_pfn_extras.training.manager import ExtensionsManager\n",
    "\n",
    "\n",
    "class LRScheduler(Extension):\n",
    "    \"\"\"A thin wrapper to resume the lr_scheduler\"\"\"\n",
    "\n",
    "    trigger = 1, 'iteration'\n",
    "    priority = PRIORITY_READER\n",
    "    name = None\n",
    "\n",
    "    def __init__(self, optimizer: optim.Optimizer, scheduler_type: str, scheduler_kwargs: Mapping[str, Any]) -> None:\n",
    "        super().__init__()\n",
    "        self.scheduler = getattr(optim.lr_scheduler, scheduler_type)(optimizer, **scheduler_kwargs)\n",
    "\n",
    "    def __call__(self, manager: ExtensionsManager) -> None:\n",
    "        self.scheduler.step()\n",
    "\n",
    "    def state_dict(self) -> None:\n",
    "        return self.scheduler.state_dict()\n",
    "\n",
    "    def load_state_dict(self, to_load) -> None:\n",
    "        self.scheduler.load_state_dict(to_load)\n"
   ]
  },
  {
   "cell_type": "code",
   "execution_count": 28,
   "metadata": {
    "_kg_hide-input": true,
    "papermill": {
     "duration": null,
     "end_time": null,
     "exception": null,
     "start_time": null,
     "status": "pending"
    },
    "tags": []
   },
   "outputs": [],
   "source": [
    "from ignite.engine import Engine\n",
    "\n",
    "\n",
    "def create_trainer(model, optimizer, device) -> Engine:\n",
    "    model.to(device)\n",
    "\n",
    "    def update_fn(engine, batch):\n",
    "        model.train()\n",
    "        optimizer.zero_grad()\n",
    "        loss, metrics = model(*[elem.to(device) for elem in batch])\n",
    "        loss.backward()\n",
    "        optimizer.step()\n",
    "        return metrics\n",
    "    trainer = Engine(update_fn)\n",
    "    return trainer\n"
   ]
  },
  {
   "cell_type": "markdown",
   "metadata": {
    "papermill": {
     "duration": null,
     "end_time": null,
     "exception": null,
     "start_time": null,
     "status": "pending"
    },
    "tags": []
   },
   "source": [
    "<a id=\"trainscript\"></a>\n",
    "# Training scripts"
   ]
  },
  {
   "cell_type": "code",
   "execution_count": 29,
   "metadata": {
    "_kg_hide-input": true,
    "papermill": {
     "duration": null,
     "end_time": null,
     "exception": null,
     "start_time": null,
     "status": "pending"
    },
    "tags": []
   },
   "outputs": [],
   "source": [
    "import dataclasses\n",
    "import os\n",
    "import sys\n",
    "from pathlib import Path\n",
    "\n",
    "import numpy as np\n",
    "import pandas as pd\n",
    "import pytorch_pfn_extras.training.extensions as E\n",
    "import torch\n",
    "from ignite.engine import Events\n",
    "from pytorch_pfn_extras.training import IgniteExtensionsManager\n",
    "from sklearn.model_selection import StratifiedKFold\n",
    "from torch import nn, optim\n",
    "from torch.utils.data.dataloader import DataLoader"
   ]
  },
  {
   "cell_type": "markdown",
   "metadata": {
    "papermill": {
     "duration": null,
     "end_time": null,
     "exception": null,
     "start_time": null,
     "status": "pending"
    },
    "tags": []
   },
   "source": [
    "## Preparing data by 5-fold cross validation\n",
    "\n",
    "When we have few data, running stable evaluation is very important. \n",
    "We can use cross validation to reduce validation error standard deviation.\n",
    "\n",
    "Here, I will use **[`StratifiedKFold`](https://scikit-learn.org/stable/modules/generated/sklearn.model_selection.StratifiedKFold.html)** to keep the balance between normal/abnormal ratio same for the train & validation dataset.\n",
    "\n",
    "According to [this discussion](https://www.kaggle.com/c/vinbigdata-chest-xray-abnormalities-detection/discussion/208837#1139712), using multi label stratified kfold https://github.com/trent-b/iterative-stratification may be more stable."
   ]
  },
  {
   "cell_type": "code",
   "execution_count": 30,
   "metadata": {
    "papermill": {
     "duration": null,
     "end_time": null,
     "exception": null,
     "start_time": null,
     "status": "pending"
    },
    "tags": []
   },
   "outputs": [],
   "source": [
    "skf = StratifiedKFold(n_splits=5, shuffle=True, random_state=flags.seed)\n",
    "# skf.get_n_splits(None, None)\n",
    "y = np.array([int(len(d[\"annotations\"]) > 0) for d in dataset_dicts])\n",
    "split_inds = list(skf.split(dataset_dicts, y))\n",
    "train_inds, valid_inds = split_inds[flags.target_fold]  # 0th fold\n",
    "train_dataset = VinbigdataTwoClassDataset(\n",
    "    [dataset_dicts[i] for i in train_inds],\n",
    "    image_transform=Transform(flags.aug_kwargs),\n",
    "    mixup_prob=flags.mixup_prob,\n",
    "    label_smoothing=flags.label_smoothing,\n",
    ")\n",
    "valid_dataset = VinbigdataTwoClassDataset([dataset_dicts[i] for i in valid_inds])\n"
   ]
  },
  {
   "cell_type": "markdown",
   "metadata": {
    "papermill": {
     "duration": null,
     "end_time": null,
     "exception": null,
     "start_time": null,
     "status": "pending"
    },
    "tags": []
   },
   "source": [
    "## Write training code\n",
    "\n",
    "pytorch-ignite & pytorch-pfn-extras are used here.\n",
    "\n",
    " - [pytorch/ignite](https://github.com/pytorch/ignite): It provides abstraction for writing training loop.\n",
    " - [pfnet/pytorch-pfn-extras](https://github.com/pfnet/pytorch-pfn-extras): It provides several \"extensions\" useful for training. Useful for **logging, printing, evaluating, saving the model, scheduling the learning rate** during training.\n",
    " \n",
    "**[Note] Why training abstraction library is used?**\n",
    "\n",
    "You may feel understanding training abstraction code below is a bit unintuitive compared to writing \"raw\" training loop.<br/>\n",
    "The advantage of abstracting the code is that we can re-use implemented handler class for other training, other competition.<br/>\n",
    "You don't need to write code for saving models, logging training loss/metric, show progressbar etc.\n",
    "These are done by provided util classes in `pytorch-pfn-extras` library!\n",
    "\n",
    "You may refer my other kernel in previous competition too:\n",
    " - [Bengali: SEResNeXt training with pytorch](https://www.kaggle.com/corochann/bengali-seresnext-training-with-pytorch)\n",
    " - [Lyft: Training with multi-mode confidence](https://www.kaggle.com/corochann/lyft-training-with-multi-mode-confidence)"
   ]
  },
  {
   "cell_type": "code",
   "execution_count": 31,
   "metadata": {
    "papermill": {
     "duration": null,
     "end_time": null,
     "exception": null,
     "start_time": null,
     "status": "pending"
    },
    "tags": []
   },
   "outputs": [
    {
     "name": "stdout",
     "output_type": "stream",
     "text": [
      "using CosineAnnealingWarmRestarts scheduler with kwargs {'T_0': 28125}\n"
     ]
    },
    {
     "data": {
      "application/vnd.jupyter.widget-view+json": {
       "model_id": "2b686ff56350481493215d7bce2d6d5e",
       "version_major": 2,
       "version_minor": 0
      },
      "text/plain": [
       "VBox(children=(HBox(children=(FloatProgress(value=0.0, bar_style='info', description='total', max=1.0), HTML(v…"
      ]
     },
     "metadata": {},
     "output_type": "display_data"
    },
    {
     "data": {
      "application/vnd.jupyter.widget-view+json": {
       "model_id": "7a8babe1221944ed95141d112d014c79",
       "version_major": 2,
       "version_minor": 0
      },
      "text/plain": [
       "HTML(value='')"
      ]
     },
     "metadata": {},
     "output_type": "display_data"
    }
   ],
   "source": [
    "train_loader = DataLoader(\n",
    "    train_dataset,\n",
    "    batch_size=flags.batchsize,\n",
    "    num_workers=flags.num_workers,\n",
    "    shuffle=True,\n",
    "    pin_memory=True,\n",
    ")\n",
    "valid_loader = DataLoader(\n",
    "    valid_dataset,\n",
    "    batch_size=flags.valid_batchsize,\n",
    "    num_workers=flags.num_workers,\n",
    "    shuffle=False,\n",
    "    pin_memory=True,\n",
    ")\n",
    "\n",
    "device = torch.device(flags.device)\n",
    "\n",
    "predictor = build_predictor(model_name=flags.model_name, model_mode=flags.model_mode)\n",
    "classifier = Classifier(predictor)\n",
    "model = classifier\n",
    "# optimizer = optim.Adam(model.parameters(), lr=1e-3)\n",
    "optimizer = optim.Adam([param for param in model.parameters() if param.requires_grad], lr=1e-3)\n",
    "\n",
    "# Train setup\n",
    "trainer = create_trainer(model, optimizer, device)\n",
    "\n",
    "ema = EMA(predictor, decay=flags.ema_decay)\n",
    "\n",
    "def eval_func(*batch):\n",
    "    loss, metrics = model(*[elem.to(device) for elem in batch])\n",
    "    # HACKING: report ema value with prefix.\n",
    "    if flags.ema_decay > 0:\n",
    "        classifier.prefix = \"ema_\"\n",
    "        ema.assign()\n",
    "        loss, metrics = model(*[elem.to(device) for elem in batch])\n",
    "        ema.resume()\n",
    "        classifier.prefix = \"\"\n",
    "\n",
    "valid_evaluator = E.Evaluator(\n",
    "    valid_loader, model, progress_bar=False, eval_func=eval_func, device=device\n",
    ")\n",
    "\n",
    "# log_trigger = (10 if debug else 1000, \"iteration\")\n",
    "log_trigger = (1, \"epoch\")\n",
    "log_report = E.LogReport(trigger=log_trigger)\n",
    "extensions = [\n",
    "    log_report,\n",
    "    E.ProgressBarNotebook(update_interval=10 if debug else 100),  # Show progress bar during training\n",
    "    E.PrintReportNotebook(),  # Show \"log\" on jupyter notebook  \n",
    "    # E.ProgressBar(update_interval=10 if debug else 100),  # Show progress bar during training\n",
    "    # E.PrintReport(),  # Print \"log\" to terminal\n",
    "    E.FailOnNonNumber(),  # Stop training when nan is detected.\n",
    "]\n",
    "epoch = flags.epoch\n",
    "models = {\"main\": model}\n",
    "optimizers = {\"main\": optimizer}\n",
    "manager = IgniteExtensionsManager(\n",
    "    trainer, models, optimizers, epoch, extensions=extensions, out_dir=str(outdir),\n",
    ")\n",
    "# Run evaluation for valid dataset in each epoch.\n",
    "manager.extend(valid_evaluator)\n",
    "\n",
    "# Save predictor.pt every epoch\n",
    "manager.extend(\n",
    "    E.snapshot_object(predictor, \"predictor.pt\"), trigger=(flags.snapshot_freq, \"epoch\")\n",
    ")\n",
    "# Check & Save best validation predictor.pt every epoch\n",
    "# manager.extend(E.snapshot_object(predictor, \"best_predictor.pt\"),\n",
    "#                trigger=MinValueTrigger(\"validation/module/nll\",\n",
    "#                trigger=(flags.snapshot_freq, \"iteration\")))\n",
    "\n",
    "# --- lr scheduler ---\n",
    "if flags.scheduler_type != \"\":\n",
    "    scheduler_type = flags.scheduler_type\n",
    "    print(f\"using {scheduler_type} scheduler with kwargs {flags.scheduler_kwargs}\")\n",
    "    manager.extend(\n",
    "        LRScheduler(optimizer, scheduler_type, flags.scheduler_kwargs),\n",
    "        trigger=flags.scheduler_trigger,\n",
    "    )\n",
    "\n",
    "manager.extend(E.observe_lr(optimizer=optimizer), trigger=log_trigger)\n",
    "\n",
    "if flags.ema_decay > 0:\n",
    "    # Exponential moving average\n",
    "    manager.extend(lambda manager: ema(), trigger=(1, \"iteration\"))\n",
    "\n",
    "    def save_ema_model(manager):\n",
    "        ema.assign()\n",
    "        torch.save(predictor.state_dict(), outdir / \"predictor_ema.pt\")\n",
    "        ema.resume()\n",
    "\n",
    "    manager.extend(save_ema_model, trigger=(flags.snapshot_freq, \"epoch\"))\n",
    "\n",
    "_ = trainer.run(train_loader, max_epochs=epoch)"
   ]
  },
  {
   "cell_type": "markdown",
   "metadata": {
    "papermill": {
     "duration": null,
     "end_time": null,
     "exception": null,
     "start_time": null,
     "status": "pending"
    },
    "tags": []
   },
   "source": [
    "So what is happening in above training abstraction? Let's understand what each extension did.\n",
    "\n",
    "**Extensions** - Each role:\n",
    " - **`ProgressBar` (`ProgressBarNotebook`)**: Shows training progress in formatted style.\n",
    " - **`LogReport`**: Logging metrics reported by `ppe.reporter.report` (see `LyftMultiRegressor` for reporting point) method and save to **log** file. It automatically collects reported value in each iteration and saves the \"mean\" of reported value for regular frequency (for example every 1 epoch).\n",
    " - **`PrintReport` (`PrintReportNotebook`)**: Prints the value which `LogReport` collected in formatted style.\n",
    " - **`Evaluator`**: Evaluate on validation dataset.\n",
    " - **`snapshot_object`**: Saves the object. Here the `model` is saved in regular interval `flags.snapshot_freq`. Even you quit training using Ctrl+C without finishing all the epoch, the intermediate trained model is saved and you can use it for inference.\n",
    " - **`LRScheduler`**: You can insert learning rate scheduling with this extension, together with the regular interval call specified by `trigger`. Here cosine annealing is applied (configured by Flags) by calling `scheduler.step()` every iteration.\n",
    " - **`observe_lr`**: `LogReport` will check optimizer's learning rate using this extension. So you can follow how the learning rate changed through the training.\n",
    "\n",
    "\n",
    "Such many functionalities can be \"added\" easily using extensions!"
   ]
  },
  {
   "cell_type": "markdown",
   "metadata": {
    "papermill": {
     "duration": null,
     "end_time": null,
     "exception": null,
     "start_time": null,
     "status": "pending"
    },
    "tags": []
   },
   "source": [
    "Also **Exponential Moving Average of model weights** is calculated by `EMA` class during training, together with showing its validation loss. We can usually obtrain more stable models with EMA."
   ]
  },
  {
   "cell_type": "markdown",
   "metadata": {
    "papermill": {
     "duration": null,
     "end_time": null,
     "exception": null,
     "start_time": null,
     "status": "pending"
    },
    "tags": []
   },
   "source": [
    "You can obtrain training history results really easily by just accessing `LogReport` class, which is useful for managing a lot of experiments during kaggle competitions."
   ]
  },
  {
   "cell_type": "code",
   "execution_count": 32,
   "metadata": {
    "papermill": {
     "duration": null,
     "end_time": null,
     "exception": null,
     "start_time": null,
     "status": "pending"
    },
    "tags": []
   },
   "outputs": [
    {
     "data": {
      "text/html": [
       "<div>\n",
       "<style scoped>\n",
       "    .dataframe tbody tr th:only-of-type {\n",
       "        vertical-align: middle;\n",
       "    }\n",
       "\n",
       "    .dataframe tbody tr th {\n",
       "        vertical-align: top;\n",
       "    }\n",
       "\n",
       "    .dataframe thead th {\n",
       "        text-align: right;\n",
       "    }\n",
       "</style>\n",
       "<table border=\"1\" class=\"dataframe\">\n",
       "  <thead>\n",
       "    <tr style=\"text-align: right;\">\n",
       "      <th></th>\n",
       "      <th>main/loss</th>\n",
       "      <th>main/acc</th>\n",
       "      <th>validation/main/loss</th>\n",
       "      <th>validation/main/acc</th>\n",
       "      <th>validation/main/ema_loss</th>\n",
       "      <th>validation/main/ema_acc</th>\n",
       "      <th>lr</th>\n",
       "      <th>epoch</th>\n",
       "      <th>iteration</th>\n",
       "      <th>elapsed_time</th>\n",
       "    </tr>\n",
       "  </thead>\n",
       "  <tbody>\n",
       "    <tr>\n",
       "      <th>0</th>\n",
       "      <td>0.475291</td>\n",
       "      <td>0.781750</td>\n",
       "      <td>0.463729</td>\n",
       "      <td>0.782580</td>\n",
       "      <td>0.345394</td>\n",
       "      <td>0.872673</td>\n",
       "      <td>0.000998</td>\n",
       "      <td>1</td>\n",
       "      <td>750</td>\n",
       "      <td>37.550373</td>\n",
       "    </tr>\n",
       "    <tr>\n",
       "      <th>1</th>\n",
       "      <td>0.365435</td>\n",
       "      <td>0.843833</td>\n",
       "      <td>0.292863</td>\n",
       "      <td>0.882314</td>\n",
       "      <td>0.320625</td>\n",
       "      <td>0.872340</td>\n",
       "      <td>0.000993</td>\n",
       "      <td>2</td>\n",
       "      <td>1500</td>\n",
       "      <td>74.954865</td>\n",
       "    </tr>\n",
       "    <tr>\n",
       "      <th>2</th>\n",
       "      <td>0.332573</td>\n",
       "      <td>0.855750</td>\n",
       "      <td>0.358155</td>\n",
       "      <td>0.829122</td>\n",
       "      <td>0.266771</td>\n",
       "      <td>0.908577</td>\n",
       "      <td>0.000984</td>\n",
       "      <td>3</td>\n",
       "      <td>2250</td>\n",
       "      <td>112.442067</td>\n",
       "    </tr>\n",
       "    <tr>\n",
       "      <th>3</th>\n",
       "      <td>0.306909</td>\n",
       "      <td>0.873750</td>\n",
       "      <td>0.235381</td>\n",
       "      <td>0.905585</td>\n",
       "      <td>0.252092</td>\n",
       "      <td>0.914561</td>\n",
       "      <td>0.000972</td>\n",
       "      <td>4</td>\n",
       "      <td>3000</td>\n",
       "      <td>149.993417</td>\n",
       "    </tr>\n",
       "    <tr>\n",
       "      <th>4</th>\n",
       "      <td>0.292041</td>\n",
       "      <td>0.879167</td>\n",
       "      <td>0.207335</td>\n",
       "      <td>0.916223</td>\n",
       "      <td>0.229215</td>\n",
       "      <td>0.915891</td>\n",
       "      <td>0.000957</td>\n",
       "      <td>5</td>\n",
       "      <td>3750</td>\n",
       "      <td>187.378193</td>\n",
       "    </tr>\n",
       "    <tr>\n",
       "      <th>5</th>\n",
       "      <td>0.280012</td>\n",
       "      <td>0.882083</td>\n",
       "      <td>0.199028</td>\n",
       "      <td>0.920213</td>\n",
       "      <td>0.218617</td>\n",
       "      <td>0.911237</td>\n",
       "      <td>0.000938</td>\n",
       "      <td>6</td>\n",
       "      <td>4500</td>\n",
       "      <td>224.846185</td>\n",
       "    </tr>\n",
       "    <tr>\n",
       "      <th>6</th>\n",
       "      <td>0.263591</td>\n",
       "      <td>0.891417</td>\n",
       "      <td>0.192110</td>\n",
       "      <td>0.926862</td>\n",
       "      <td>0.199153</td>\n",
       "      <td>0.931184</td>\n",
       "      <td>0.000916</td>\n",
       "      <td>7</td>\n",
       "      <td>5250</td>\n",
       "      <td>262.608404</td>\n",
       "    </tr>\n",
       "    <tr>\n",
       "      <th>7</th>\n",
       "      <td>0.254439</td>\n",
       "      <td>0.896750</td>\n",
       "      <td>0.207114</td>\n",
       "      <td>0.916223</td>\n",
       "      <td>0.206590</td>\n",
       "      <td>0.927527</td>\n",
       "      <td>0.000892</td>\n",
       "      <td>8</td>\n",
       "      <td>6000</td>\n",
       "      <td>300.325467</td>\n",
       "    </tr>\n",
       "    <tr>\n",
       "      <th>8</th>\n",
       "      <td>0.246657</td>\n",
       "      <td>0.899583</td>\n",
       "      <td>0.193960</td>\n",
       "      <td>0.924202</td>\n",
       "      <td>0.210192</td>\n",
       "      <td>0.920213</td>\n",
       "      <td>0.000865</td>\n",
       "      <td>9</td>\n",
       "      <td>6750</td>\n",
       "      <td>338.415307</td>\n",
       "    </tr>\n",
       "    <tr>\n",
       "      <th>9</th>\n",
       "      <td>0.233178</td>\n",
       "      <td>0.903750</td>\n",
       "      <td>0.187190</td>\n",
       "      <td>0.925199</td>\n",
       "      <td>0.189174</td>\n",
       "      <td>0.934508</td>\n",
       "      <td>0.000835</td>\n",
       "      <td>10</td>\n",
       "      <td>7500</td>\n",
       "      <td>375.987398</td>\n",
       "    </tr>\n",
       "    <tr>\n",
       "      <th>10</th>\n",
       "      <td>0.223171</td>\n",
       "      <td>0.910083</td>\n",
       "      <td>0.241600</td>\n",
       "      <td>0.905585</td>\n",
       "      <td>0.176835</td>\n",
       "      <td>0.933843</td>\n",
       "      <td>0.000802</td>\n",
       "      <td>11</td>\n",
       "      <td>8250</td>\n",
       "      <td>413.675054</td>\n",
       "    </tr>\n",
       "    <tr>\n",
       "      <th>11</th>\n",
       "      <td>0.216369</td>\n",
       "      <td>0.912417</td>\n",
       "      <td>0.188835</td>\n",
       "      <td>0.927527</td>\n",
       "      <td>0.182880</td>\n",
       "      <td>0.927859</td>\n",
       "      <td>0.000768</td>\n",
       "      <td>12</td>\n",
       "      <td>9000</td>\n",
       "      <td>451.705912</td>\n",
       "    </tr>\n",
       "    <tr>\n",
       "      <th>12</th>\n",
       "      <td>0.208622</td>\n",
       "      <td>0.917000</td>\n",
       "      <td>0.185553</td>\n",
       "      <td>0.929189</td>\n",
       "      <td>0.203973</td>\n",
       "      <td>0.918551</td>\n",
       "      <td>0.000732</td>\n",
       "      <td>13</td>\n",
       "      <td>9750</td>\n",
       "      <td>489.323467</td>\n",
       "    </tr>\n",
       "    <tr>\n",
       "      <th>13</th>\n",
       "      <td>0.206149</td>\n",
       "      <td>0.918250</td>\n",
       "      <td>0.173479</td>\n",
       "      <td>0.930519</td>\n",
       "      <td>0.171184</td>\n",
       "      <td>0.936170</td>\n",
       "      <td>0.000694</td>\n",
       "      <td>14</td>\n",
       "      <td>10500</td>\n",
       "      <td>527.358011</td>\n",
       "    </tr>\n",
       "    <tr>\n",
       "      <th>14</th>\n",
       "      <td>0.193672</td>\n",
       "      <td>0.923000</td>\n",
       "      <td>0.314765</td>\n",
       "      <td>0.896941</td>\n",
       "      <td>0.166746</td>\n",
       "      <td>0.936835</td>\n",
       "      <td>0.000655</td>\n",
       "      <td>15</td>\n",
       "      <td>11250</td>\n",
       "      <td>564.974010</td>\n",
       "    </tr>\n",
       "  </tbody>\n",
       "</table>\n",
       "</div>"
      ],
      "text/plain": [
       "    main/loss  main/acc  validation/main/loss  validation/main/acc  \\\n",
       "0    0.475291  0.781750              0.463729             0.782580   \n",
       "1    0.365435  0.843833              0.292863             0.882314   \n",
       "2    0.332573  0.855750              0.358155             0.829122   \n",
       "3    0.306909  0.873750              0.235381             0.905585   \n",
       "4    0.292041  0.879167              0.207335             0.916223   \n",
       "5    0.280012  0.882083              0.199028             0.920213   \n",
       "6    0.263591  0.891417              0.192110             0.926862   \n",
       "7    0.254439  0.896750              0.207114             0.916223   \n",
       "8    0.246657  0.899583              0.193960             0.924202   \n",
       "9    0.233178  0.903750              0.187190             0.925199   \n",
       "10   0.223171  0.910083              0.241600             0.905585   \n",
       "11   0.216369  0.912417              0.188835             0.927527   \n",
       "12   0.208622  0.917000              0.185553             0.929189   \n",
       "13   0.206149  0.918250              0.173479             0.930519   \n",
       "14   0.193672  0.923000              0.314765             0.896941   \n",
       "\n",
       "    validation/main/ema_loss  validation/main/ema_acc        lr  epoch  \\\n",
       "0                   0.345394                 0.872673  0.000998      1   \n",
       "1                   0.320625                 0.872340  0.000993      2   \n",
       "2                   0.266771                 0.908577  0.000984      3   \n",
       "3                   0.252092                 0.914561  0.000972      4   \n",
       "4                   0.229215                 0.915891  0.000957      5   \n",
       "5                   0.218617                 0.911237  0.000938      6   \n",
       "6                   0.199153                 0.931184  0.000916      7   \n",
       "7                   0.206590                 0.927527  0.000892      8   \n",
       "8                   0.210192                 0.920213  0.000865      9   \n",
       "9                   0.189174                 0.934508  0.000835     10   \n",
       "10                  0.176835                 0.933843  0.000802     11   \n",
       "11                  0.182880                 0.927859  0.000768     12   \n",
       "12                  0.203973                 0.918551  0.000732     13   \n",
       "13                  0.171184                 0.936170  0.000694     14   \n",
       "14                  0.166746                 0.936835  0.000655     15   \n",
       "\n",
       "    iteration  elapsed_time  \n",
       "0         750     37.550373  \n",
       "1        1500     74.954865  \n",
       "2        2250    112.442067  \n",
       "3        3000    149.993417  \n",
       "4        3750    187.378193  \n",
       "5        4500    224.846185  \n",
       "6        5250    262.608404  \n",
       "7        6000    300.325467  \n",
       "8        6750    338.415307  \n",
       "9        7500    375.987398  \n",
       "10       8250    413.675054  \n",
       "11       9000    451.705912  \n",
       "12       9750    489.323467  \n",
       "13      10500    527.358011  \n",
       "14      11250    564.974010  "
      ]
     },
     "execution_count": 32,
     "metadata": {},
     "output_type": "execute_result"
    }
   ],
   "source": [
    "torch.save(predictor.state_dict(), outdir / \"predictor_last.pt\")\n",
    "df = log_report.to_dataframe()\n",
    "df.to_csv(outdir / \"log.csv\", index=False)\n",
    "df"
   ]
  },
  {
   "cell_type": "markdown",
   "metadata": {
    "papermill": {
     "duration": null,
     "end_time": null,
     "exception": null,
     "start_time": null,
     "status": "pending"
    },
    "tags": []
   },
   "source": [
    "<a id=\"prediction\"></a>\n",
    "# Prediction on validation & test dataset"
   ]
  },
  {
   "cell_type": "code",
   "execution_count": 33,
   "metadata": {
    "papermill": {
     "duration": null,
     "end_time": null,
     "exception": null,
     "start_time": null,
     "status": "pending"
    },
    "tags": []
   },
   "outputs": [
    {
     "name": "stdout",
     "output_type": "stream",
     "text": [
      "Training done! Start prediction...\n",
      "Load from cache dataset_dicts_cache_test_debug0.pkl\n"
     ]
    }
   ],
   "source": [
    "# --- Prediction ---\n",
    "print(\"Training done! Start prediction...\")\n",
    "# valid data\n",
    "valid_pred = classifier.predict_proba(valid_loader).cpu().numpy()\n",
    "valid_pred_df = pd.DataFrame({\n",
    "    \"image_id\": [dataset_dicts[i][\"image_id\"] for i in valid_inds],\n",
    "    \"class0\": valid_pred[:, 0],\n",
    "    \"class1\": valid_pred[:, 1]\n",
    "})\n",
    "valid_pred_df.to_csv(outdir/\"valid_pred.csv\", index=False)\n",
    "\n",
    "# test data\n",
    "test_meta = pd.read_csv(inputdir / \"../../data\" / \"test_meta.csv\")\n",
    "dataset_dicts_test = get_vinbigdata_dicts_test(imgdir, test_meta, debug=debug)\n",
    "test_dataset = VinbigdataTwoClassDataset(dataset_dicts_test, train=False)\n",
    "test_loader = DataLoader(\n",
    "    test_dataset,\n",
    "    batch_size=flags.valid_batchsize,\n",
    "    num_workers=flags.num_workers,\n",
    "    shuffle=False,\n",
    "    pin_memory=True,\n",
    ")\n",
    "test_pred = classifier.predict_proba(test_loader).cpu().numpy()\n",
    "test_pred_df = pd.DataFrame({\n",
    "    \"image_id\": [d[\"image_id\"] for d in dataset_dicts_test],\n",
    "    \"class0\": test_pred[:, 0],\n",
    "    \"class1\": test_pred[:, 1]\n",
    "})\n",
    "test_pred_df.to_csv(outdir/\"test_pred.csv\", index=False)"
   ]
  },
  {
   "cell_type": "code",
   "execution_count": 34,
   "metadata": {
    "papermill": {
     "duration": null,
     "end_time": null,
     "exception": null,
     "start_time": null,
     "status": "pending"
    },
    "tags": []
   },
   "outputs": [
    {
     "data": {
      "text/html": [
       "<div>\n",
       "<style scoped>\n",
       "    .dataframe tbody tr th:only-of-type {\n",
       "        vertical-align: middle;\n",
       "    }\n",
       "\n",
       "    .dataframe tbody tr th {\n",
       "        vertical-align: top;\n",
       "    }\n",
       "\n",
       "    .dataframe thead th {\n",
       "        text-align: right;\n",
       "    }\n",
       "</style>\n",
       "<table border=\"1\" class=\"dataframe\">\n",
       "  <thead>\n",
       "    <tr style=\"text-align: right;\">\n",
       "      <th></th>\n",
       "      <th>image_id</th>\n",
       "      <th>class0</th>\n",
       "      <th>class1</th>\n",
       "    </tr>\n",
       "  </thead>\n",
       "  <tbody>\n",
       "    <tr>\n",
       "      <th>0</th>\n",
       "      <td>8dec5497ecc246766acfba5a4be4e619</td>\n",
       "      <td>1.000000</td>\n",
       "      <td>6.808226e-10</td>\n",
       "    </tr>\n",
       "    <tr>\n",
       "      <th>1</th>\n",
       "      <td>287422bed1d9d153387361889619abed</td>\n",
       "      <td>0.999999</td>\n",
       "      <td>1.434801e-06</td>\n",
       "    </tr>\n",
       "    <tr>\n",
       "      <th>2</th>\n",
       "      <td>1d12b94b7acbeadef7d7700b50aa90d4</td>\n",
       "      <td>1.000000</td>\n",
       "      <td>9.491207e-08</td>\n",
       "    </tr>\n",
       "    <tr>\n",
       "      <th>3</th>\n",
       "      <td>6b872791e23742f6c33a08fc24f77365</td>\n",
       "      <td>0.900985</td>\n",
       "      <td>9.901477e-02</td>\n",
       "    </tr>\n",
       "    <tr>\n",
       "      <th>4</th>\n",
       "      <td>d0d2addff91ad7beb1d92126ff74d621</td>\n",
       "      <td>1.000000</td>\n",
       "      <td>3.845870e-07</td>\n",
       "    </tr>\n",
       "    <tr>\n",
       "      <th>...</th>\n",
       "      <td>...</td>\n",
       "      <td>...</td>\n",
       "      <td>...</td>\n",
       "    </tr>\n",
       "    <tr>\n",
       "      <th>2995</th>\n",
       "      <td>78b44b96b121d6075d7ae27135278e03</td>\n",
       "      <td>1.000000</td>\n",
       "      <td>9.770621e-09</td>\n",
       "    </tr>\n",
       "    <tr>\n",
       "      <th>2996</th>\n",
       "      <td>afee8ff90f29b8827d0eb78774d25324</td>\n",
       "      <td>1.000000</td>\n",
       "      <td>4.844261e-07</td>\n",
       "    </tr>\n",
       "    <tr>\n",
       "      <th>2997</th>\n",
       "      <td>6e07fab2014be723250f7897ab6e3df2</td>\n",
       "      <td>0.999980</td>\n",
       "      <td>2.005705e-05</td>\n",
       "    </tr>\n",
       "    <tr>\n",
       "      <th>2998</th>\n",
       "      <td>690bb572300ef08bbbb7ebf4196099cf</td>\n",
       "      <td>0.968326</td>\n",
       "      <td>3.167443e-02</td>\n",
       "    </tr>\n",
       "    <tr>\n",
       "      <th>2999</th>\n",
       "      <td>0a08191a658edb1327e7282045ec71cf</td>\n",
       "      <td>0.981846</td>\n",
       "      <td>1.815408e-02</td>\n",
       "    </tr>\n",
       "  </tbody>\n",
       "</table>\n",
       "<p>3000 rows × 3 columns</p>\n",
       "</div>"
      ],
      "text/plain": [
       "                              image_id    class0        class1\n",
       "0     8dec5497ecc246766acfba5a4be4e619  1.000000  6.808226e-10\n",
       "1     287422bed1d9d153387361889619abed  0.999999  1.434801e-06\n",
       "2     1d12b94b7acbeadef7d7700b50aa90d4  1.000000  9.491207e-08\n",
       "3     6b872791e23742f6c33a08fc24f77365  0.900985  9.901477e-02\n",
       "4     d0d2addff91ad7beb1d92126ff74d621  1.000000  3.845870e-07\n",
       "...                                ...       ...           ...\n",
       "2995  78b44b96b121d6075d7ae27135278e03  1.000000  9.770621e-09\n",
       "2996  afee8ff90f29b8827d0eb78774d25324  1.000000  4.844261e-07\n",
       "2997  6e07fab2014be723250f7897ab6e3df2  0.999980  2.005705e-05\n",
       "2998  690bb572300ef08bbbb7ebf4196099cf  0.968326  3.167443e-02\n",
       "2999  0a08191a658edb1327e7282045ec71cf  0.981846  1.815408e-02\n",
       "\n",
       "[3000 rows x 3 columns]"
      ]
     },
     "execution_count": 34,
     "metadata": {},
     "output_type": "execute_result"
    }
   ],
   "source": [
    "# --- Test dataset prediction result ---\n",
    "test_pred_df"
   ]
  },
  {
   "cell_type": "code",
   "execution_count": 35,
   "metadata": {
    "papermill": {
     "duration": null,
     "end_time": null,
     "exception": null,
     "start_time": null,
     "status": "pending"
    },
    "tags": []
   },
   "outputs": [
    {
     "name": "stderr",
     "output_type": "stream",
     "text": [
      "/home/kentaro123/anaconda3/envs/vinbig/lib/python3.7/site-packages/seaborn/distributions.py:2557: FutureWarning: `distplot` is a deprecated function and will be removed in a future version. Please adapt your code to use either `displot` (a figure-level function with similar flexibility) or `histplot` (an axes-level function for histograms).\n",
      "  warnings.warn(msg, FutureWarning)\n",
      "/home/kentaro123/anaconda3/envs/vinbig/lib/python3.7/site-packages/seaborn/distributions.py:2557: FutureWarning: `distplot` is a deprecated function and will be removed in a future version. Please adapt your code to use either `displot` (a figure-level function with similar flexibility) or `histplot` (an axes-level function for histograms).\n",
      "  warnings.warn(msg, FutureWarning)\n"
     ]
    },
    {
     "data": {
      "text/plain": [
       "<matplotlib.legend.Legend at 0x7f59f3e35450>"
      ]
     },
     "execution_count": 35,
     "metadata": {},
     "output_type": "execute_result"
    },
    {
     "data": {
      "image/png": "[encoded data removed]",
      "text/plain": [
       "<Figure size 432x288 with 1 Axes>"
      ]
     },
     "metadata": {
      "needs_background": "light"
     },
     "output_type": "display_data"
    }
   ],
   "source": [
    "sns.distplot(valid_pred_df[\"class0\"].values, color='green', label='valid pred')\n",
    "sns.distplot(test_pred_df[\"class0\"].values, color='orange', label='test pred')\n",
    "plt.title(\"Prediction results histogram\")\n",
    "plt.xlim([0., 1.])\n",
    "plt.legend()"
   ]
  },
  {
   "cell_type": "markdown",
   "metadata": {
    "papermill": {
     "duration": null,
     "end_time": null,
     "exception": null,
     "start_time": null,
     "status": "pending"
    },
    "tags": []
   },
   "source": [
    "# Apply 2 class filter on detection prediction\n",
    "\n",
    "I will use detection prediction from the kernel:\n",
    " - [📸VinBigData detectron2 train](https://www.kaggle.com/corochann/vinbigdata-detectron2-train)\n",
    " - [📸VinBigData detectron2 prediction](https://www.kaggle.com/corochann/vinbigdata-detectron2-prediction)\n",
    "\n",
    "And 2class prediction is updated as dataset: [vinbigdata-2class-pred](https://www.kaggle.com/corochann/vinbigdata2classpred).\n",
    "\n",
    "As mentioned in [VinBigData 🌟2 Class Filter🌟](https://www.kaggle.com/awsaf49/vinbigdata-2-class-filter) by @awsaf49, applying 2-class filter improves LB score significantly. (Please upvote his kernel as well!)<br/>\n",
    "Also, it is mentioned that we can submit **14 prob 1 1 0 0** where the `prob` is the normal probability in the discussion [[Scoring bug] Improve your LB score by 0.053, just adding \"14 1 0 0 1 1\"](https://www.kaggle.com/c/vinbigdata-chest-xray-abnormalities-detection/discussion/211971)!\n",
    "\n",
    "Here, I will propose new post processing (similar to [this](https://www.kaggle.com/c/vinbigdata-chest-xray-abnormalities-detection/discussion/211971#1157809) by @pestipeti):\n",
    "\n",
    "Here `p` is the **normal probability**.\n",
    "\n",
    "1. `p < low_threshold`                   -> Do nothing, Keep det prediction.\n",
    "2. `low_threshold <= p < high_threshold` -> Just \"Add\" Normal prediction, **keep** detection prediction.\n",
    "3. `high_threshold <= p`                 -> Replace with Normal prediction with normal score 1.0, **remove** all detection predictoin.\n",
    "\n",
    "\n",
    "[Note] I also wrote another kernel to train 2-class model: [📸VinBigData 2-class classifier complete pipeline](https://www.kaggle.com/corochann/vinbigdata-2-class-classifier-complete-pipeline) to train these 2-class classifier model!"
   ]
  },
  {
   "cell_type": "code",
   "execution_count": 36,
   "metadata": {
    "papermill": {
     "duration": null,
     "end_time": null,
     "exception": null,
     "start_time": null,
     "status": "pending"
    },
    "tags": []
   },
   "outputs": [
    {
     "data": {
      "text/html": [
       "<div>\n",
       "<style scoped>\n",
       "    .dataframe tbody tr th:only-of-type {\n",
       "        vertical-align: middle;\n",
       "    }\n",
       "\n",
       "    .dataframe tbody tr th {\n",
       "        vertical-align: top;\n",
       "    }\n",
       "\n",
       "    .dataframe thead th {\n",
       "        text-align: right;\n",
       "    }\n",
       "</style>\n",
       "<table border=\"1\" class=\"dataframe\">\n",
       "  <thead>\n",
       "    <tr style=\"text-align: right;\">\n",
       "      <th></th>\n",
       "      <th>image_id</th>\n",
       "      <th>class0</th>\n",
       "      <th>class1</th>\n",
       "    </tr>\n",
       "  </thead>\n",
       "  <tbody>\n",
       "    <tr>\n",
       "      <th>0</th>\n",
       "      <td>8dec5497ecc246766acfba5a4be4e619</td>\n",
       "      <td>0.976988</td>\n",
       "      <td>0.023012</td>\n",
       "    </tr>\n",
       "    <tr>\n",
       "      <th>1</th>\n",
       "      <td>287422bed1d9d153387361889619abed</td>\n",
       "      <td>0.950402</td>\n",
       "      <td>0.049598</td>\n",
       "    </tr>\n",
       "    <tr>\n",
       "      <th>2</th>\n",
       "      <td>1d12b94b7acbeadef7d7700b50aa90d4</td>\n",
       "      <td>0.995952</td>\n",
       "      <td>0.004048</td>\n",
       "    </tr>\n",
       "    <tr>\n",
       "      <th>3</th>\n",
       "      <td>6b872791e23742f6c33a08fc24f77365</td>\n",
       "      <td>0.874948</td>\n",
       "      <td>0.125052</td>\n",
       "    </tr>\n",
       "    <tr>\n",
       "      <th>4</th>\n",
       "      <td>d0d2addff91ad7beb1d92126ff74d621</td>\n",
       "      <td>0.997519</td>\n",
       "      <td>0.002481</td>\n",
       "    </tr>\n",
       "    <tr>\n",
       "      <th>...</th>\n",
       "      <td>...</td>\n",
       "      <td>...</td>\n",
       "      <td>...</td>\n",
       "    </tr>\n",
       "    <tr>\n",
       "      <th>2995</th>\n",
       "      <td>78b44b96b121d6075d7ae27135278e03</td>\n",
       "      <td>0.991775</td>\n",
       "      <td>0.008225</td>\n",
       "    </tr>\n",
       "    <tr>\n",
       "      <th>2996</th>\n",
       "      <td>afee8ff90f29b8827d0eb78774d25324</td>\n",
       "      <td>0.998331</td>\n",
       "      <td>0.001669</td>\n",
       "    </tr>\n",
       "    <tr>\n",
       "      <th>2997</th>\n",
       "      <td>6e07fab2014be723250f7897ab6e3df2</td>\n",
       "      <td>0.990037</td>\n",
       "      <td>0.009963</td>\n",
       "    </tr>\n",
       "    <tr>\n",
       "      <th>2998</th>\n",
       "      <td>690bb572300ef08bbbb7ebf4196099cf</td>\n",
       "      <td>0.975643</td>\n",
       "      <td>0.024356</td>\n",
       "    </tr>\n",
       "    <tr>\n",
       "      <th>2999</th>\n",
       "      <td>0a08191a658edb1327e7282045ec71cf</td>\n",
       "      <td>0.993029</td>\n",
       "      <td>0.006971</td>\n",
       "    </tr>\n",
       "  </tbody>\n",
       "</table>\n",
       "<p>3000 rows × 3 columns</p>\n",
       "</div>"
      ],
      "text/plain": [
       "                              image_id    class0    class1\n",
       "0     8dec5497ecc246766acfba5a4be4e619  0.976988  0.023012\n",
       "1     287422bed1d9d153387361889619abed  0.950402  0.049598\n",
       "2     1d12b94b7acbeadef7d7700b50aa90d4  0.995952  0.004048\n",
       "3     6b872791e23742f6c33a08fc24f77365  0.874948  0.125052\n",
       "4     d0d2addff91ad7beb1d92126ff74d621  0.997519  0.002481\n",
       "...                                ...       ...       ...\n",
       "2995  78b44b96b121d6075d7ae27135278e03  0.991775  0.008225\n",
       "2996  afee8ff90f29b8827d0eb78774d25324  0.998331  0.001669\n",
       "2997  6e07fab2014be723250f7897ab6e3df2  0.990037  0.009963\n",
       "2998  690bb572300ef08bbbb7ebf4196099cf  0.975643  0.024356\n",
       "2999  0a08191a658edb1327e7282045ec71cf  0.993029  0.006971\n",
       "\n",
       "[3000 rows x 3 columns]"
      ]
     },
     "execution_count": 36,
     "metadata": {},
     "output_type": "execute_result"
    }
   ],
   "source": [
    "# pred_2class = pd.read_csv(inputdir/\"vinbigdata-2class-prediction/2-cls test pred.csv\")  # LB 0.230\n",
    "# low_threshold = 0.0\n",
    "# high_threshold = 0.95\n",
    "\n",
    "pred_2class = pd.read_csv(inputdir/\"../../data/vinbigdata2classpred/test_pred.csv\")\n",
    "low_threshold = 0.0\n",
    "high_threshold = 0.976\n",
    "pred_2class"
   ]
  },
  {
   "cell_type": "code",
   "execution_count": 37,
   "metadata": {
    "_kg_hide-input": true,
    "papermill": {
     "duration": null,
     "end_time": null,
     "exception": null,
     "start_time": null,
     "status": "pending"
    },
    "tags": []
   },
   "outputs": [
    {
     "name": "stdout",
     "output_type": "stream",
     "text": [
      "n_normal: 3000 -> 1713 with threshold 0.0 & 0.976\n",
      "Keep 0 Add 1287 Replace 1713\n",
      "Saved to ../../data/results/submission.csv\n"
     ]
    }
   ],
   "source": [
    "NORMAL = \"14 1 0 0 1 1\"\n",
    "\n",
    "pred_det_df = pd.read_csv(inputdir/\"../../data/submission.csv\")  # You can load from another submission.csv here too.\n",
    "n_normal_before = len(pred_det_df.query(\"PredictionString == @NORMAL\"))\n",
    "merged_df = pd.merge(pred_det_df, pred_2class, on=\"image_id\", how=\"left\")\n",
    "\n",
    "# 1. p < low_threshold                   -> \"Keep\": Do nothing, Keep det prediction.\n",
    "# 2. low_threshold <= p < high_threshold -> \"Add\": Just \"Add\" Normal prediction\n",
    "# 3. high_threshold <= p                 -> \"Replace\": Replace with Normal prediction\n",
    "\n",
    "if \"target\" in merged_df.columns:\n",
    "    merged_df[\"class0\"] = 1 - merged_df[\"target\"]\n",
    "\n",
    "c0, c1, c2 = 0, 0, 0\n",
    "for i in range(len(merged_df)):\n",
    "    p0 = merged_df.loc[i, \"class0\"]\n",
    "    if p0 < low_threshold:\n",
    "        # Keep, do nothing.\n",
    "        c0 += 1\n",
    "    elif low_threshold <= p0 and p0 < high_threshold:\n",
    "        # Add, keep \"det\" preds and add normal pred.\n",
    "        merged_df.loc[i, \"PredictionString\"] += f\" 14 {p0} 0 0 1 1\"\n",
    "        c1 += 1\n",
    "    else:\n",
    "        # Replace, remove all \"det\" preds.\n",
    "        merged_df.loc[i, \"PredictionString\"] = NORMAL\n",
    "        c2 += 1\n",
    "\n",
    "n_normal_after = len(merged_df.query(\"PredictionString == @NORMAL\"))\n",
    "print(\n",
    "    f\"n_normal: {n_normal_before} -> {n_normal_after} with threshold {low_threshold} & {high_threshold}\"\n",
    ")\n",
    "print(f\"Keep {c0} Add {c1} Replace {c2}\")\n",
    "submission_filepath = str(outdir / \"submission.csv\")\n",
    "submission_df = merged_df[[\"image_id\", \"PredictionString\"]]\n",
    "submission_df.to_csv(submission_filepath, index=False)\n",
    "print(f\"Saved to {submission_filepath}\")"
   ]
  },
  {
   "cell_type": "markdown",
   "metadata": {
    "papermill": {
     "duration": null,
     "end_time": null,
     "exception": null,
     "start_time": null,
     "status": "pending"
    },
    "tags": []
   },
   "source": [
    "In my experiment:\n",
    " - The baseline submission: score 0.141\n",
    " - Just replace by threshold ([version3](https://www.kaggle.com/corochann/vinbigdata-detectron2-prediction?scriptVersionId=52412540) ): score 0.206\n",
    " - This post process (combine replace & add): **0.221**\n",
    "\n",
    "So the score improved by about **0.8, which is significant**!\n",
    "\n",
    "In more detail, I tried to change several `low_threshold` value and lower `low_threshold` achieved better results. So it may be okay to set `low_threshold=0.0` which means **always add \"No finding\" prediction with the predicted probability.**<br/>\n",
    "I also noticed that setting `high_threshold` value less than 1 is important, which means we have a benefit to **remove abnormality predictions** for the images which is highly likely to be normal.<br/>\n",
    "This may be because my [training kernel](https://www.kaggle.com/corochann/vinbigdata-detectron2-train) currently only uses abnormal image during training and model tend to produce more abnormal boxes. I'm now thinking that it's better to include normal images for training to learn where there is **no** abnormality.<br/>\n",
    "Also, I think it's nice to try **including \"No finding\" class during detection training** (by adding virtual \"No finding\" boxes, or by adding global classifier together with the detection)."
   ]
  },
  {
   "cell_type": "markdown",
   "metadata": {
    "papermill": {
     "duration": null,
     "end_time": null,
     "exception": null,
     "start_time": null,
     "status": "pending"
    },
    "tags": []
   },
   "source": [
    "That's all!\n",
    "\n",
    "<h3 style=\"color:red\">If this kernel helps you, please upvote to keep me motivated 😁<br>Thanks!</h3>"
   ]
  },
  {
   "cell_type": "markdown",
   "metadata": {
    "papermill": {
     "duration": null,
     "end_time": null,
     "exception": null,
     "start_time": null,
     "status": "pending"
    },
    "tags": []
   },
   "source": [
    "<a id=\"nextstep\"></a>\n",
    "# Next step\n",
    "\n",
    "I explained EDA - Training - Prediction pipeline for 2-class image classification in this kernel.<br/>\n",
    "You can try changing training configurations by just changing `Flags` (`flags_dict`) configuration.\n",
    "\n",
    "For example, you can change these paramters:\n",
    "\n",
    " - **Data**\n",
    "   - `imgdir_name`: You can use different preprocessed image introduced in [Multiple preprocessed datasets: 256/512/1024px, PNG and JPG, modified and original ratio](https://www.kaggle.com/c/vinbigdata-chest-xray-abnormalities-detection/discussion/207955) by @xhlulu.\n",
    " - **Model**\n",
    "   - `model_name`: You can try various kinds of models `timm` library support, by just changing model_name.\n",
    " - **Training**\n",
    "   - `epoch`, `batch_size`, `scheduler_type` etc: Try changing these hyperparamters, to see the difference!\n",
    "   - Augmentation: Please modify `Transform` class to add your augmentation, it's easy to support more augmentations with `albumentations` library.\n",
    "\n",
    "\n",
    "My basic strategy is as follows:\n",
    " - Check training loss/training accuracy: If it is almost same with validation loss/accuracy and it is not accurate enough, model's representation power may be not enough, or data augmentation is too strong. You can try more deeper models, decrease data augmentation or using more rich data (high-resolution image).\n",
    " - Check training loss/validation loss difference: If validation loss is very high compared to training loss, it is a sign of overfitting. Try using smaller models, increase data augmentation or apply regularization (dropout etc)."
   ]
  },
  {
   "attachments": {
    "image.png": {
     "image/png": "[encoded data removed]"
    }
   },
   "cell_type": "markdown",
   "metadata": {
    "papermill": {
     "duration": null,
     "end_time": null,
     "exception": null,
     "start_time": null,
     "status": "pending"
    },
    "tags": []
   },
   "source": [
    "## Using other datasets?\n",
    "\n",
    "There are several other X-ray images in this research field.<br/>\n",
    "The paper of this competition dataset [\"VinDr-CXR: An open dataset of chest X-rays with radiologist's annotations”.](https://arxiv.org/pdf/2012.15029.pdf)\n",
    "summarizes the existing public datasets.\n",
    "![image.png](attachment:image.png)\n",
    "\n",
    "\n",
    "[CheXpert](https://stanfordmlgroup.github.io/competitions/chexpert/) is one of the biggest dataset in this area. <br/>\n",
    "Even if local label (for detection) is not available, it helps to create more accurate model by combining to use this dataset.<br/>\n",
    "You can register your name and E-mail address to Download this Dataset!"
   ]
  },
  {
   "cell_type": "markdown",
   "metadata": {
    "papermill": {
     "duration": null,
     "end_time": null,
     "exception": null,
     "start_time": null,
     "status": "pending"
    },
    "tags": []
   },
   "source": [
    "# Next to read\n",
    "\n",
    "[📸VinBigData detectron2 train](https://www.kaggle.com/corochann/vinbigdata-detectron2-train) kernel explains how to run object detection training, using `detectron2` library.\n",
    "\n",
    "[📸VinBigData detectron2 prediction](https://www.kaggle.com/corochann/vinbigdata-detectron2-prediction) kernel explains how to use trained model for the prediction and submisssion for this competition."
   ]
  },
  {
   "cell_type": "code",
   "execution_count": null,
   "metadata": {
    "papermill": {
     "duration": null,
     "end_time": null,
     "exception": null,
     "start_time": null,
     "status": "pending"
    },
    "tags": []
   },
   "outputs": [],
   "source": []
  }
 ],
 "metadata": {
  "kernelspec": {
   "display_name": "Python 3",
   "language": "python",
   "name": "python3"
  },
  "language_info": {
   "codemirror_mode": {
    "name": "ipython",
    "version": 3
   },
   "file_extension": ".py",
   "mimetype": "text/x-python",
   "name": "python",
   "nbconvert_exporter": "python",
   "pygments_lexer": "ipython3",
   "version": "3.7.10"
  },
  "papermill": {
   "duration": null,
   "end_time": null,
   "environment_variables": {},
   "exception": null,
   "input_path": "__notebook__.ipynb",
   "output_path": "__notebook__.ipynb",
   "parameters": {},
   "start_time": "2021-02-24T13:46:31.574852",
   "version": "2.1.0"
  }
 },
 "nbformat": 4,
 "nbformat_minor": 4
}
